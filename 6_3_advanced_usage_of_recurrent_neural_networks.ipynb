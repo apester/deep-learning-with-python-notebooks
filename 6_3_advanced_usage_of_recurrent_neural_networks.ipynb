{
  "nbformat": 4,
  "nbformat_minor": 0,
  "metadata": {
    "kernelspec": {
      "name": "python3",
      "display_name": "Python 3"
    },
    "language_info": {
      "codemirror_mode": {
        "name": "ipython",
        "version": 3
      },
      "file_extension": ".py",
      "mimetype": "text/x-python",
      "name": "python",
      "nbconvert_exporter": "python",
      "pygments_lexer": "ipython3",
      "version": "3.5.2"
    },
    "colab": {
      "name": "6.3-advanced-usage-of-recurrent-neural-networks.ipynb",
      "provenance": [],
      "collapsed_sections": [],
      "include_colab_link": true
    },
    "accelerator": "GPU"
  },
  "cells": [
    {
      "cell_type": "markdown",
      "metadata": {
        "id": "view-in-github",
        "colab_type": "text"
      },
      "source": [
        "<a href=\"https://colab.research.google.com/github/apester/deep-learning-with-python-notebooks/blob/master/6_3_advanced_usage_of_recurrent_neural_networks.ipynb\" target=\"_parent\"><img src=\"https://colab.research.google.com/assets/colab-badge.svg\" alt=\"Open In Colab\"/></a>"
      ]
    },
    {
      "cell_type": "code",
      "metadata": {
        "id": "UYe6xhm4wLMM",
        "colab_type": "code",
        "colab": {
          "base_uri": "https://localhost:8080/",
          "height": 99
        },
        "outputId": "cb921f2b-00cf-4554-8c57-262b3fd8a38f"
      },
      "source": [
        "import keras\n",
        "keras.__version__"
      ],
      "execution_count": 2,
      "outputs": [
        {
          "output_type": "stream",
          "text": [
            "Using TensorFlow backend.\n"
          ],
          "name": "stderr"
        },
        {
          "output_type": "display_data",
          "data": {
            "text/html": [
              "<p style=\"color: red;\">\n",
              "The default version of TensorFlow in Colab will soon switch to TensorFlow 2.x.<br>\n",
              "We recommend you <a href=\"https://www.tensorflow.org/guide/migrate\" target=\"_blank\">upgrade</a> now \n",
              "or ensure your notebook will continue to use TensorFlow 1.x via the <code>%tensorflow_version 1.x</code> magic:\n",
              "<a href=\"https://colab.research.google.com/notebooks/tensorflow_version.ipynb\" target=\"_blank\">more info</a>.</p>\n"
            ],
            "text/plain": [
              "<IPython.core.display.HTML object>"
            ]
          },
          "metadata": {
            "tags": []
          }
        },
        {
          "output_type": "execute_result",
          "data": {
            "text/plain": [
              "'2.2.5'"
            ]
          },
          "metadata": {
            "tags": []
          },
          "execution_count": 2
        }
      ]
    },
    {
      "cell_type": "markdown",
      "metadata": {
        "id": "y_ocL3r8wLMQ",
        "colab_type": "text"
      },
      "source": [
        "# Advanced usage of recurrent neural networks\n",
        "\n",
        "This notebook contains the code samples found in Chapter 6, Section 3 of [Deep Learning with Python](https://www.manning.com/books/deep-learning-with-python?a_aid=keras&a_bid=76564dff). Note that the original text features far more content, in particular further explanations and figures: in this notebook, you will only find source code and related comments.\n",
        "\n",
        "---\n",
        "\n",
        "In this section, we will review three advanced techniques for improving the performance and generalization power of recurrent neural \n",
        "networks. By the end of the section, you will know most of what there is to know about using recurrent networks with Keras. We will \n",
        "demonstrate all three concepts on a weather forecasting problem, where we have access to a timeseries of data points coming from sensors \n",
        "installed on the roof of a building, such as temperature, air pressure, and humidity, which we use to predict what the temperature will be \n",
        "24 hours after the last data point collected. This is a fairly challenging problem that exemplifies many common difficulties encountered \n",
        "when working with timeseries.\n",
        "\n",
        "We will cover the following techniques:\n",
        "\n",
        "* *Recurrent dropout*, a specific, built-in way to use dropout to fight overfitting in recurrent layers.\n",
        "* *Stacking recurrent layers*, to increase the representational power of the network (at the cost of higher computational loads).\n",
        "* *Bidirectional recurrent layers*, which presents the same information to a recurrent network in different ways, increasing accuracy and \n",
        "mitigating forgetting issues."
      ]
    },
    {
      "cell_type": "markdown",
      "metadata": {
        "id": "RtpGEzLcwLMQ",
        "colab_type": "text"
      },
      "source": [
        "## A temperature forecasting problem\n",
        "\n",
        "Until now, the only sequence data we have covered has been text data, for instance the IMDB dataset and the Reuters dataset. But sequence \n",
        "data is found in many more problems than just language processing. In all of our examples in this section, we will be playing with a weather \n",
        "timeseries dataset recorded at the Weather Station at the Max-Planck-Institute for Biogeochemistry in Jena, Germany: http://www.bgc-jena.mpg.de/wetter/.\n",
        "\n",
        "In this dataset, fourteen different quantities (such air temperature, atmospheric pressure, humidity, wind direction, etc.) are recorded \n",
        "every ten minutes, over several years. The original data goes back to 2003, but we limit ourselves to data from 2009-2016. This dataset is \n",
        "perfect for learning to work with numerical timeseries. We will use it to build a model that takes as input some data from the recent past (a \n",
        "few days worth of data points) and predicts the air temperature 24 hours in the future."
      ]
    },
    {
      "cell_type": "code",
      "metadata": {
        "id": "ny-pXklZpQTB",
        "colab_type": "code",
        "colab": {
          "base_uri": "https://localhost:8080/",
          "height": 124
        },
        "outputId": "41241eea-d90a-4fdc-d492-e3569c009747"
      },
      "source": [
        "from google.colab import drive\n",
        "drive.mount('/content/drive', force_remount=True)"
      ],
      "execution_count": 3,
      "outputs": [
        {
          "output_type": "stream",
          "text": [
            "Go to this URL in a browser: https://accounts.google.com/o/oauth2/auth?client_id=947318989803-6bn6qk8qdgf4n4g3pfee6491hc0brc4i.apps.googleusercontent.com&redirect_uri=urn%3aietf%3awg%3aoauth%3a2.0%3aoob&response_type=code&scope=email%20https%3a%2f%2fwww.googleapis.com%2fauth%2fdocs.test%20https%3a%2f%2fwww.googleapis.com%2fauth%2fdrive%20https%3a%2f%2fwww.googleapis.com%2fauth%2fdrive.photos.readonly%20https%3a%2f%2fwww.googleapis.com%2fauth%2fpeopleapi.readonly\n",
            "\n",
            "Enter your authorization code:\n",
            "··········\n",
            "Mounted at /content/drive\n"
          ],
          "name": "stdout"
        }
      ]
    },
    {
      "cell_type": "markdown",
      "metadata": {
        "id": "zWymH2tswLMR",
        "colab_type": "text"
      },
      "source": [
        "Let's take a look at the data:"
      ]
    },
    {
      "cell_type": "code",
      "metadata": {
        "id": "_yUVDp15wLMS",
        "colab_type": "code",
        "colab": {
          "base_uri": "https://localhost:8080/",
          "height": 72
        },
        "outputId": "ca6666e5-42b0-4f6f-8ab8-0e93e884911b"
      },
      "source": [
        "import os\n",
        "\n",
        "data_dir = 'drive/My Drive/jena_climate_2009_2016'\n",
        "fname = os.path.join(data_dir, 'jena_climate_2009_2016.csv')\n",
        "\n",
        "f = open(fname)\n",
        "data = f.read()\n",
        "f.close()\n",
        "\n",
        "lines = data.split('\\n')\n",
        "header = lines[0].split(',')\n",
        "lines = lines[1:]\n",
        "\n",
        "print(header)\n",
        "print(len(lines))"
      ],
      "execution_count": 4,
      "outputs": [
        {
          "output_type": "stream",
          "text": [
            "['\"Date Time\"', '\"p (mbar)\"', '\"T (degC)\"', '\"Tpot (K)\"', '\"Tdew (degC)\"', '\"rh (%)\"', '\"VPmax (mbar)\"', '\"VPact (mbar)\"', '\"VPdef (mbar)\"', '\"sh (g/kg)\"', '\"H2OC (mmol/mol)\"', '\"rho (g/m**3)\"', '\"wv (m/s)\"', '\"max. wv (m/s)\"', '\"wd (deg)\"']\n",
            "420551\n"
          ],
          "name": "stdout"
        }
      ]
    },
    {
      "cell_type": "markdown",
      "metadata": {
        "id": "-tsgPC_rwLMU",
        "colab_type": "text"
      },
      "source": [
        "Let's convert all of these 420,551 lines of data into a Numpy array:"
      ]
    },
    {
      "cell_type": "code",
      "metadata": {
        "id": "-OrgcF4ewLMU",
        "colab_type": "code",
        "colab": {}
      },
      "source": [
        "import numpy as np\n",
        "\n",
        "float_data = np.zeros((len(lines), len(header) - 1))\n",
        "for i, line in enumerate(lines):\n",
        "    values = [float(x) for x in line.split(',')[1:]]\n",
        "    float_data[i, :] = values"
      ],
      "execution_count": 0,
      "outputs": []
    },
    {
      "cell_type": "markdown",
      "metadata": {
        "id": "J94Z8EAJwLMW",
        "colab_type": "text"
      },
      "source": [
        "For instance, here is the plot of temperature (in degrees Celsius) over time:"
      ]
    },
    {
      "cell_type": "code",
      "metadata": {
        "id": "lKe4GPtbwLMX",
        "colab_type": "code",
        "colab": {
          "base_uri": "https://localhost:8080/",
          "height": 268
        },
        "outputId": "e735e856-ece1-4ce7-8266-fbc65b146853"
      },
      "source": [
        "from matplotlib import pyplot as plt\n",
        "\n",
        "temp = float_data[:, 1]  # temperature (in degrees Celsius)\n",
        "plt.plot(range(len(temp)), temp)\n",
        "plt.show()"
      ],
      "execution_count": 5,
      "outputs": [
        {
          "output_type": "display_data",
          "data": {
            "image/png": "[encoded data removed]",
            "text/plain": [
              "<Figure size 432x288 with 1 Axes>"
            ]
          },
          "metadata": {
            "tags": []
          }
        }
      ]
    },
    {
      "cell_type": "markdown",
      "metadata": {
        "id": "bPf6TWsWwLMZ",
        "colab_type": "text"
      },
      "source": [
        "\n",
        "On this plot, you can clearly see the yearly periodicity of temperature.\n",
        "\n",
        "Here is a more narrow plot of the first ten days of temperature data (since the data is recorded every ten minutes, we get 144 data points \n",
        "per day):"
      ]
    },
    {
      "cell_type": "code",
      "metadata": {
        "id": "81kbCPMpwLMZ",
        "colab_type": "code",
        "colab": {
          "base_uri": "https://localhost:8080/",
          "height": 265
        },
        "outputId": "6e10bcc1-b20f-4c75-a1ee-cd15da1dcbe2"
      },
      "source": [
        "plt.plot(range(1440), temp[:1440])\n",
        "plt.show()"
      ],
      "execution_count": 6,
      "outputs": [
        {
          "output_type": "display_data",
          "data": {
            "image/png": "[encoded data removed]",
            "text/plain": [
              "<Figure size 432x288 with 1 Axes>"
            ]
          },
          "metadata": {
            "tags": []
          }
        }
      ]
    },
    {
      "cell_type": "markdown",
      "metadata": {
        "id": "NGmRBPQQwLMb",
        "colab_type": "text"
      },
      "source": [
        "\n",
        "On this plot, you can see daily periodicity, especially evident for the last 4 days. We can also note that this ten-days period must be \n",
        "coming from a fairly cold winter month.\n",
        "\n",
        "If we were trying to predict average temperature for the next month given a few month of past data, the problem would be easy, due to the \n",
        "reliable year-scale periodicity of the data. But looking at the data over a scale of days, the temperature looks a lot more chaotic. So is \n",
        "this timeseries predictable at a daily scale? Let's find out."
      ]
    },
    {
      "cell_type": "markdown",
      "metadata": {
        "id": "S9yIBH7UwLMc",
        "colab_type": "text"
      },
      "source": [
        "## Preparing the data\n",
        "\n",
        "\n",
        "The exact formulation of our problem will be the following: given data going as far back as `lookback` timesteps (a timestep is 10 minutes) \n",
        "and sampled every `steps` timesteps, can we predict the temperature in `delay` timesteps?\n",
        "\n",
        "We will use the following parameter values:\n",
        "\n",
        "* `lookback = 720`, i.e. our observations will go back 5 days.\n",
        "* `steps = 6`, i.e. our observations will be sampled at one data point per hour.\n",
        "* `delay = 144`, i.e. our targets will be 24 hours in the future.\n",
        "\n",
        "To get started, we need to do two things:\n",
        "\n",
        "* Preprocess the data to a format a neural network can ingest. This is easy: the data is already numerical, so we don't need to do any \n",
        "vectorization. However each timeseries in the data is on a different scale (e.g. temperature is typically between -20 and +30, but \n",
        "pressure, measured in mbar, is around 1000). So we will normalize each timeseries independently so that they all take small values on a \n",
        "similar scale.\n",
        "* Write a Python generator that takes our current array of float data and yields batches of data from the recent past, alongside with a \n",
        "target temperature in the future. Since the samples in our dataset are highly redundant (e.g. sample `N` and sample `N + 1` will have most \n",
        "of their timesteps in common), it would be very wasteful to explicitly allocate every sample. Instead, we will generate the samples on the \n",
        "fly using the original data.\n",
        "\n",
        "We preprocess the data by subtracting the mean of each timeseries and dividing by the standard deviation. We plan on using the first \n",
        "200,000 timesteps as training data, so we compute the mean and standard deviation only on this fraction of the data:"
      ]
    },
    {
      "cell_type": "code",
      "metadata": {
        "id": "-KTM20EOwLMc",
        "colab_type": "code",
        "colab": {}
      },
      "source": [
        "mean = float_data[:200000].mean(axis=0)\n",
        "float_data -= mean\n",
        "std = float_data[:200000].std(axis=0)\n",
        "float_data /= std"
      ],
      "execution_count": 0,
      "outputs": []
    },
    {
      "cell_type": "markdown",
      "metadata": {
        "id": "j99y3_OcwLMe",
        "colab_type": "text"
      },
      "source": [
        "\n",
        "Now here is the data generator that we will use. It yields a tuple `(samples, targets)` where `samples` is one batch of input data and \n",
        "`targets` is the corresponding array of target temperatures. It takes the following arguments:\n",
        "\n",
        "* `data`: The original array of floating point data, which we just normalized in the code snippet above.\n",
        "* `lookback`: How many timesteps back should our input data go.\n",
        "* `delay`: How many timesteps in the future should our target be.\n",
        "* `min_index` and `max_index`: Indices in the `data` array that delimit which timesteps to draw from. This is useful for keeping a segment \n",
        "of the data for validation and another one for testing.\n",
        "* `shuffle`: Whether to shuffle our samples or draw them in chronological order.\n",
        "* `batch_size`: The number of samples per batch.\n",
        "* `step`: The period, in timesteps, at which we sample data. We will set it 6 in order to draw one data point every hour."
      ]
    },
    {
      "cell_type": "code",
      "metadata": {
        "id": "LAxwCAEZwLMf",
        "colab_type": "code",
        "colab": {}
      },
      "source": [
        "def generator(data, lookback, delay, min_index, max_index,\n",
        "              shuffle=False, batch_size=128, step=6):\n",
        "    if max_index is None:\n",
        "        max_index = len(data) - delay - 1\n",
        "    i = min_index + lookback\n",
        "    while 1:\n",
        "        if shuffle:\n",
        "            rows = np.random.randint(\n",
        "                min_index + lookback, max_index, size=batch_size)\n",
        "        else:\n",
        "            if i + batch_size >= max_index:\n",
        "                i = min_index + lookback\n",
        "            rows = np.arange(i, min(i + batch_size, max_index))\n",
        "            i += len(rows)\n",
        "\n",
        "        samples = np.zeros((len(rows),\n",
        "                           lookback // step,\n",
        "                           data.shape[-1]))\n",
        "        targets = np.zeros((len(rows),))\n",
        "        for j, row in enumerate(rows):\n",
        "            indices = range(rows[j] - lookback, rows[j], step)\n",
        "            samples[j] = data[indices]\n",
        "            targets[j] = data[rows[j] + delay][1]\n",
        "        yield samples, targets"
      ],
      "execution_count": 0,
      "outputs": []
    },
    {
      "cell_type": "markdown",
      "metadata": {
        "id": "e39r55IkwLMh",
        "colab_type": "text"
      },
      "source": [
        "\n",
        "Now let's use our abstract generator function to instantiate three generators, one for training, one for validation and one for testing. \n",
        "Each will look at different temporal segments of the original data: the training generator looks at the first 200,000 timesteps, the \n",
        "validation generator looks at the following 100,000, and the test generator looks at the remainder."
      ]
    },
    {
      "cell_type": "code",
      "metadata": {
        "id": "2TqU8r1RwLMh",
        "colab_type": "code",
        "colab": {}
      },
      "source": [
        "lookback = 1440\n",
        "step = 6\n",
        "delay = 144\n",
        "batch_size = 128\n",
        "\n",
        "train_gen = generator(float_data,\n",
        "                      lookback=lookback,\n",
        "                      delay=delay,\n",
        "                      min_index=0,\n",
        "                      max_index=200000,\n",
        "                      shuffle=True,\n",
        "                      step=step, \n",
        "                      batch_size=batch_size)\n",
        "val_gen = generator(float_data,\n",
        "                    lookback=lookback,\n",
        "                    delay=delay,\n",
        "                    min_index=200001,\n",
        "                    max_index=300000,\n",
        "                    step=step,\n",
        "                    batch_size=batch_size)\n",
        "test_gen = generator(float_data,\n",
        "                     lookback=lookback,\n",
        "                     delay=delay,\n",
        "                     min_index=300001,\n",
        "                     max_index=None,\n",
        "                     step=step,\n",
        "                     batch_size=batch_size)\n",
        "\n",
        "# This is how many steps to draw from `val_gen`\n",
        "# in order to see the whole validation set:\n",
        "val_steps = (300000 - 200001 - lookback) // batch_size\n",
        "\n",
        "# This is how many steps to draw from `test_gen`\n",
        "# in order to see the whole test set:\n",
        "test_steps = (len(float_data) - 300001 - lookback) // batch_size"
      ],
      "execution_count": 0,
      "outputs": []
    },
    {
      "cell_type": "markdown",
      "metadata": {
        "id": "f-k-7uzgwLMj",
        "colab_type": "text"
      },
      "source": [
        "## A common sense, non-machine learning baseline\n",
        "\n",
        "\n",
        "Before we start leveraging black-box deep learning models to solve our temperature prediction problem, let's try out a simple common-sense \n",
        "approach. It will serve as a sanity check, and it will establish a baseline that we will have to beat in order to demonstrate the \n",
        "usefulness of more advanced machine learning models. Such common-sense baselines can be very useful when approaching a new problem for \n",
        "which there is no known solution (yet). A classic example is that of unbalanced classification tasks, where some classes can be much more \n",
        "common than others. If your dataset contains 90% of instances of class A and 10% of instances of class B, then a common sense approach to \n",
        "the classification task would be to always predict \"A\" when presented with a new sample. Such a classifier would be 90% accurate overall, \n",
        "and any learning-based approach should therefore beat this 90% score in order to demonstrate usefulness. Sometimes such elementary \n",
        "baseline can prove surprisingly hard to beat.\n",
        "\n",
        "In our case, the temperature timeseries can safely be assumed to be continuous (the temperatures tomorrow are likely to be close to the \n",
        "temperatures today) as well as periodical with a daily period. Thus a common sense approach would be to always predict that the temperature \n",
        "24 hours from now will be equal to the temperature right now. Let's evaluate this approach, using the Mean Absolute Error metric (MAE). \n",
        "Mean Absolute Error is simply equal to:"
      ]
    },
    {
      "cell_type": "code",
      "metadata": {
        "id": "gbg59P5YwLMk",
        "colab_type": "code",
        "colab": {}
      },
      "source": [
        "np.mean(np.abs(preds - targets))"
      ],
      "execution_count": 0,
      "outputs": []
    },
    {
      "cell_type": "markdown",
      "metadata": {
        "id": "fmCNooaCwLMl",
        "colab_type": "text"
      },
      "source": [
        "Here's our evaluation loop:"
      ]
    },
    {
      "cell_type": "code",
      "metadata": {
        "id": "bzddxnQ1wLMm",
        "colab_type": "code",
        "colab": {
          "base_uri": "https://localhost:8080/",
          "height": 35
        },
        "outputId": "157bbf94-f23b-43e9-f18c-853fa5d9fb8b"
      },
      "source": [
        "def evaluate_naive_method():\n",
        "    batch_maes = []\n",
        "    for step in range(val_steps):\n",
        "        samples, targets = next(val_gen)\n",
        "        preds = samples[:, -1, 1]\n",
        "        mae = np.mean(np.abs(preds - targets))\n",
        "        batch_maes.append(mae)\n",
        "    print(np.mean(batch_maes))\n",
        "    \n",
        "evaluate_naive_method()"
      ],
      "execution_count": 10,
      "outputs": [
        {
          "output_type": "stream",
          "text": [
            "0.2897359729905486\n"
          ],
          "name": "stdout"
        }
      ]
    },
    {
      "cell_type": "markdown",
      "metadata": {
        "id": "BSYwkC2UwLMo",
        "colab_type": "text"
      },
      "source": [
        "It yields a MAE of 0.29. Since our temperature data has been normalized to be centered on 0 and have a standard deviation of one, this \n",
        "number is not immediately interpretable. It translates to an average absolute error of `0.29 * temperature_std` degrees Celsius, i.e. \n",
        "2.57˚C. That's a fairly large average absolute error -- now the game is to leverage our knowledge of deep learning to do better. "
      ]
    },
    {
      "cell_type": "markdown",
      "metadata": {
        "id": "8Gk5TqGTwLMo",
        "colab_type": "text"
      },
      "source": [
        "## A basic machine learning approach\n",
        "\n",
        "In the same way that it is useful to establish a common sense baseline before trying machine learning approaches, it is useful to try \n",
        "simple and cheap machine learning models (such as small densely-connected networks) before looking into complicated and computationally \n",
        "expensive models such as RNNs. This is the best way to make sure that any further complexity we throw at the problem later on is legitimate \n",
        "and delivers real benefits.\n",
        "\n",
        "Here is a simply fully-connected model in which we start by flattening the data, then run it through two `Dense` layers. Note the lack of \n",
        "activation function on the last `Dense` layer, which is typical for a regression problem. We use MAE as the loss. Since we are evaluating \n",
        "on the exact same data and with the exact same metric as with our common sense approach, the results will be directly comparable."
      ]
    },
    {
      "cell_type": "code",
      "metadata": {
        "id": "a0UQG-JEwLMp",
        "colab_type": "code",
        "colab": {
          "base_uri": "https://localhost:8080/",
          "height": 1000
        },
        "outputId": "350b7e8e-90e4-4193-a3a9-407b7c534827"
      },
      "source": [
        "from keras.models import Sequential\n",
        "from keras import layers\n",
        "from keras.optimizers import RMSprop\n",
        "\n",
        "model = Sequential()\n",
        "model.add(layers.Flatten(input_shape=(lookback // step, float_data.shape[-1])))\n",
        "model.add(layers.Dense(32, activation='relu'))\n",
        "model.add(layers.Dense(1))\n",
        "\n",
        "model.compile(optimizer=RMSprop(), loss='mae')\n",
        "history = model.fit_generator(train_gen,\n",
        "                              steps_per_epoch=500,\n",
        "                              epochs=20,\n",
        "                              validation_data=val_gen,\n",
        "                              validation_steps=val_steps)"
      ],
      "execution_count": 11,
      "outputs": [
        {
          "output_type": "stream",
          "text": [
            "WARNING:tensorflow:From /usr/local/lib/python3.6/dist-packages/keras/backend/tensorflow_backend.py:66: The name tf.get_default_graph is deprecated. Please use tf.compat.v1.get_default_graph instead.\n",
            "\n",
            "WARNING:tensorflow:From /usr/local/lib/python3.6/dist-packages/keras/backend/tensorflow_backend.py:541: The name tf.placeholder is deprecated. Please use tf.compat.v1.placeholder instead.\n",
            "\n",
            "WARNING:tensorflow:From /usr/local/lib/python3.6/dist-packages/keras/backend/tensorflow_backend.py:4432: The name tf.random_uniform is deprecated. Please use tf.random.uniform instead.\n",
            "\n",
            "WARNING:tensorflow:From /usr/local/lib/python3.6/dist-packages/keras/optimizers.py:793: The name tf.train.Optimizer is deprecated. Please use tf.compat.v1.train.Optimizer instead.\n",
            "\n",
            "WARNING:tensorflow:From /usr/local/lib/python3.6/dist-packages/keras/backend/tensorflow_backend.py:1033: The name tf.assign_add is deprecated. Please use tf.compat.v1.assign_add instead.\n",
            "\n",
            "WARNING:tensorflow:From /usr/local/lib/python3.6/dist-packages/keras/backend/tensorflow_backend.py:1020: The name tf.assign is deprecated. Please use tf.compat.v1.assign instead.\n",
            "\n",
            "WARNING:tensorflow:From /usr/local/lib/python3.6/dist-packages/keras/backend/tensorflow_backend.py:3005: The name tf.Session is deprecated. Please use tf.compat.v1.Session instead.\n",
            "\n",
            "Epoch 1/20\n",
            "WARNING:tensorflow:From /usr/local/lib/python3.6/dist-packages/keras/backend/tensorflow_backend.py:190: The name tf.get_default_session is deprecated. Please use tf.compat.v1.get_default_session instead.\n",
            "\n",
            "WARNING:tensorflow:From /usr/local/lib/python3.6/dist-packages/keras/backend/tensorflow_backend.py:197: The name tf.ConfigProto is deprecated. Please use tf.compat.v1.ConfigProto instead.\n",
            "\n",
            "WARNING:tensorflow:From /usr/local/lib/python3.6/dist-packages/keras/backend/tensorflow_backend.py:207: The name tf.global_variables is deprecated. Please use tf.compat.v1.global_variables instead.\n",
            "\n",
            "WARNING:tensorflow:From /usr/local/lib/python3.6/dist-packages/keras/backend/tensorflow_backend.py:216: The name tf.is_variable_initialized is deprecated. Please use tf.compat.v1.is_variable_initialized instead.\n",
            "\n",
            "WARNING:tensorflow:From /usr/local/lib/python3.6/dist-packages/keras/backend/tensorflow_backend.py:223: The name tf.variables_initializer is deprecated. Please use tf.compat.v1.variables_initializer instead.\n",
            "\n",
            "500/500 [==============================] - 16s 31ms/step - loss: 1.3588 - val_loss: 0.7178\n",
            "Epoch 2/20\n",
            "500/500 [==============================] - 11s 22ms/step - loss: 0.4711 - val_loss: 0.3876\n",
            "Epoch 3/20\n",
            "500/500 [==============================] - 11s 21ms/step - loss: 0.2984 - val_loss: 0.3031\n",
            "Epoch 4/20\n",
            "500/500 [==============================] - 11s 21ms/step - loss: 0.2700 - val_loss: 0.3213\n",
            "Epoch 5/20\n",
            "500/500 [==============================] - 11s 22ms/step - loss: 0.2537 - val_loss: 0.3076\n",
            "Epoch 6/20\n",
            "500/500 [==============================] - 11s 21ms/step - loss: 0.2457 - val_loss: 0.3117\n",
            "Epoch 7/20\n",
            "500/500 [==============================] - 11s 21ms/step - loss: 0.2405 - val_loss: 0.3287\n",
            "Epoch 8/20\n",
            "500/500 [==============================] - 11s 21ms/step - loss: 0.2341 - val_loss: 0.3082\n",
            "Epoch 9/20\n",
            "500/500 [==============================] - 11s 21ms/step - loss: 0.2291 - val_loss: 0.3128\n",
            "Epoch 10/20\n",
            "500/500 [==============================] - 11s 21ms/step - loss: 0.2237 - val_loss: 0.3616\n",
            "Epoch 11/20\n",
            "500/500 [==============================] - 11s 22ms/step - loss: 0.2223 - val_loss: 0.3168\n",
            "Epoch 12/20\n",
            "500/500 [==============================] - 11s 22ms/step - loss: 0.2197 - val_loss: 0.3203\n",
            "Epoch 13/20\n",
            "500/500 [==============================] - 11s 21ms/step - loss: 0.2161 - val_loss: 0.3308\n",
            "Epoch 14/20\n",
            "500/500 [==============================] - 11s 21ms/step - loss: 0.2146 - val_loss: 0.3321\n",
            "Epoch 15/20\n",
            "500/500 [==============================] - 11s 21ms/step - loss: 0.2119 - val_loss: 0.3283\n",
            "Epoch 16/20\n",
            "500/500 [==============================] - 11s 21ms/step - loss: 0.2084 - val_loss: 0.3203\n",
            "Epoch 17/20\n",
            "500/500 [==============================] - 11s 21ms/step - loss: 0.2078 - val_loss: 0.3305\n",
            "Epoch 18/20\n",
            "500/500 [==============================] - 11s 21ms/step - loss: 0.2035 - val_loss: 0.3218\n",
            "Epoch 19/20\n",
            "500/500 [==============================] - 11s 21ms/step - loss: 0.2044 - val_loss: 0.3358\n",
            "Epoch 20/20\n",
            "500/500 [==============================] - 11s 22ms/step - loss: 0.2018 - val_loss: 0.3424\n"
          ],
          "name": "stdout"
        }
      ]
    },
    {
      "cell_type": "markdown",
      "metadata": {
        "id": "pVhE6X2BwLMr",
        "colab_type": "text"
      },
      "source": [
        "Let's display the loss curves for validation and training:"
      ]
    },
    {
      "cell_type": "code",
      "metadata": {
        "id": "nnTR3zpHwLMs",
        "colab_type": "code",
        "colab": {
          "base_uri": "https://localhost:8080/",
          "height": 281
        },
        "outputId": "cfff4d65-ed4b-4ebf-905b-41eb6c58f270"
      },
      "source": [
        "import matplotlib.pyplot as plt\n",
        "\n",
        "loss = history.history['loss']\n",
        "val_loss = history.history['val_loss']\n",
        "\n",
        "epochs = range(len(loss))\n",
        "\n",
        "plt.figure()\n",
        "\n",
        "plt.plot(epochs, loss, 'bo', label='Training loss')\n",
        "plt.plot(epochs, val_loss, 'b', label='Validation loss')\n",
        "plt.title('Training and validation loss')\n",
        "plt.legend()\n",
        "\n",
        "plt.show()"
      ],
      "execution_count": 10,
      "outputs": [
        {
          "output_type": "display_data",
          "data": {
            "image/png": "[encoded data removed]",
            "text/plain": [
              "<Figure size 432x288 with 1 Axes>"
            ]
          },
          "metadata": {
            "tags": []
          }
        }
      ]
    },
    {
      "cell_type": "markdown",
      "metadata": {
        "id": "ax6IKfa_wLMt",
        "colab_type": "text"
      },
      "source": [
        "\n",
        "Some of our validation losses get close to the no-learning baseline, but not very reliably. This goes to show the merit of having had this baseline in the first place: it turns out not to be so easy to outperform. Our \n",
        "common sense contains already a lot of valuable information that a machine learning model does not have access to.\n",
        "\n",
        "You may ask, if there exists a simple, well-performing model to go from the data to the targets (our common sense baseline), why doesn't \n",
        "the model we are training find it and improve on it? Simply put: because this simple solution is not what our training setup is looking \n",
        "for. The space of models in which we are searching for a solution, i.e. our hypothesis space, is the space of all possible 2-layer networks \n",
        "with the configuration that we defined. These networks are already fairly complicated. When looking for a solution with a space of \n",
        "complicated models, the simple well-performing baseline might be unlearnable, even if it's technically part of the hypothesis space. That \n",
        "is a pretty significant limitation of machine learning in general: unless the learning algorithm is hard-coded to look for a specific kind \n",
        "of simple model, parameter learning can sometimes fail to find a simple solution to a simple problem."
      ]
    },
    {
      "cell_type": "markdown",
      "metadata": {
        "id": "2PqMlSupwLMu",
        "colab_type": "text"
      },
      "source": [
        "## A first recurrent baseline\n",
        "\n",
        "\n",
        "Our first fully-connected approach didn't do so well, but that doesn't mean machine learning is not applicable to our problem. The approach \n",
        "above consisted in first flattening the timeseries, which removed the notion of time from the input data. Let us instead look at our data \n",
        "as what it is: a sequence, where causality and order matter. We will try a recurrent sequence processing model -- it should be the perfect \n",
        "fit for such sequence data, precisely because it does exploit the temporal ordering of data points, unlike our first approach.\n",
        "\n",
        "Instead of the `LSTM` layer introduced in the previous section, we will use the `GRU` layer, developed by Cho et al. in 2014. `GRU` layers \n",
        "(which stands for \"gated recurrent unit\") work by leveraging the same principle as LSTM, but they are somewhat streamlined and thus cheaper \n",
        "to run, albeit they may not have quite as much representational power as LSTM. This trade-off between computational expensiveness and \n",
        "representational power is seen everywhere in machine learning."
      ]
    },
    {
      "cell_type": "code",
      "metadata": {
        "id": "2X80DY-nwLMv",
        "colab_type": "code",
        "outputId": "8327d1a8-c032-4da6-b7af-4470f5afe83d",
        "colab": {
          "base_uri": "https://localhost:8080/",
          "height": 783
        }
      },
      "source": [
        "from keras.models import Sequential\n",
        "from keras import layers\n",
        "from keras.optimizers import RMSprop\n",
        "\n",
        "model = Sequential()\n",
        "model.add(layers.GRU(32, input_shape=(None, float_data.shape[-1])))\n",
        "model.add(layers.Dense(1))\n",
        "\n",
        "model.compile(optimizer=RMSprop(), loss='mae')\n",
        "history = model.fit_generator(train_gen,\n",
        "                              steps_per_epoch=500,\n",
        "                              epochs=20,\n",
        "                              validation_data=val_gen,\n",
        "                              validation_steps=val_steps)"
      ],
      "execution_count": 13,
      "outputs": [
        {
          "output_type": "stream",
          "text": [
            "WARNING:tensorflow:From /usr/local/lib/python3.6/dist-packages/tensorflow_core/python/ops/math_grad.py:1424: where (from tensorflow.python.ops.array_ops) is deprecated and will be removed in a future version.\n",
            "Instructions for updating:\n",
            "Use tf.where in 2.0, which has the same broadcast rule as np.where\n",
            "Epoch 1/20\n",
            "500/500 [==============================] - 145s 291ms/step - loss: 0.3045 - val_loss: 0.2684\n",
            "Epoch 2/20\n",
            "500/500 [==============================] - 144s 289ms/step - loss: 0.2841 - val_loss: 0.2671\n",
            "Epoch 3/20\n",
            "500/500 [==============================] - 145s 290ms/step - loss: 0.2794 - val_loss: 0.2657\n",
            "Epoch 4/20\n",
            "500/500 [==============================] - 145s 290ms/step - loss: 0.2732 - val_loss: 0.2626\n",
            "Epoch 5/20\n",
            "500/500 [==============================] - 144s 288ms/step - loss: 0.2720 - val_loss: 0.2597\n",
            "Epoch 6/20\n",
            "500/500 [==============================] - 145s 290ms/step - loss: 0.2641 - val_loss: 0.2622\n",
            "Epoch 7/20\n",
            "500/500 [==============================] - 143s 287ms/step - loss: 0.2594 - val_loss: 0.2699\n",
            "Epoch 8/20\n",
            "500/500 [==============================] - 145s 289ms/step - loss: 0.2544 - val_loss: 0.2684\n",
            "Epoch 9/20\n",
            "500/500 [==============================] - 144s 288ms/step - loss: 0.2513 - val_loss: 0.2716\n",
            "Epoch 10/20\n",
            "500/500 [==============================] - 155s 310ms/step - loss: 0.2478 - val_loss: 0.2701\n",
            "Epoch 11/20\n",
            "500/500 [==============================] - 143s 286ms/step - loss: 0.2437 - val_loss: 0.2707\n",
            "Epoch 12/20\n",
            "500/500 [==============================] - 148s 296ms/step - loss: 0.2389 - val_loss: 0.2702\n",
            "Epoch 13/20\n",
            "500/500 [==============================] - 147s 295ms/step - loss: 0.2353 - val_loss: 0.2708\n",
            "Epoch 14/20\n",
            "500/500 [==============================] - 149s 298ms/step - loss: 0.2326 - val_loss: 0.2720\n",
            "Epoch 15/20\n",
            "500/500 [==============================] - 152s 303ms/step - loss: 0.2301 - val_loss: 0.2753\n",
            "Epoch 16/20\n",
            "500/500 [==============================] - 153s 306ms/step - loss: 0.2260 - val_loss: 0.2768\n",
            "Epoch 17/20\n",
            "500/500 [==============================] - 150s 299ms/step - loss: 0.2237 - val_loss: 0.2752\n",
            "Epoch 18/20\n",
            "500/500 [==============================] - 144s 287ms/step - loss: 0.2208 - val_loss: 0.2750\n",
            "Epoch 19/20\n",
            "500/500 [==============================] - 143s 285ms/step - loss: 0.2185 - val_loss: 0.2800\n",
            "Epoch 20/20\n",
            "500/500 [==============================] - 142s 285ms/step - loss: 0.2138 - val_loss: 0.2813\n"
          ],
          "name": "stdout"
        }
      ]
    },
    {
      "cell_type": "markdown",
      "metadata": {
        "id": "Xq0o0T_pwLMx",
        "colab_type": "text"
      },
      "source": [
        "Let look at our results:"
      ]
    },
    {
      "cell_type": "code",
      "metadata": {
        "id": "EjbcW8c_wLMx",
        "colab_type": "code",
        "colab": {
          "base_uri": "https://localhost:8080/",
          "height": 281
        },
        "outputId": "f6b798d2-0d12-44e2-eb44-90ad58bd7640"
      },
      "source": [
        "loss = history.history['loss']\n",
        "val_loss = history.history['val_loss']\n",
        "\n",
        "epochs = range(len(loss))\n",
        "\n",
        "plt.figure()\n",
        "\n",
        "plt.plot(epochs, loss, 'bo', label='Training loss')\n",
        "plt.plot(epochs, val_loss, 'b', label='Validation loss')\n",
        "plt.title('Training and validation loss')\n",
        "plt.legend()\n",
        "\n",
        "plt.show()"
      ],
      "execution_count": 14,
      "outputs": [
        {
          "output_type": "display_data",
          "data": {
            "image/png": "[encoded data removed]",
            "text/plain": [
              "<Figure size 432x288 with 1 Axes>"
            ]
          },
          "metadata": {
            "tags": []
          }
        }
      ]
    },
    {
      "cell_type": "markdown",
      "metadata": {
        "id": "yhRg1LNowLM0",
        "colab_type": "text"
      },
      "source": [
        "\n",
        "Much better! We are able to significantly beat the common sense baseline, such demonstrating the value of machine learning here, as well as \n",
        "the superiority of recurrent networks compared to sequence-flattening dense networks on this type of task.\n",
        "\n",
        "Our new validation MAE of ~0.265 (before we start significantly overfitting) translates to a mean absolute error of 2.35˚C after \n",
        "de-normalization. That's a solid gain on our initial error of 2.57˚C, but we probably still have a bit of margin for improvement."
      ]
    },
    {
      "cell_type": "markdown",
      "metadata": {
        "id": "rHYOJg2GwLM0",
        "colab_type": "text"
      },
      "source": [
        "## Using recurrent dropout to fight overfitting\n",
        "\n",
        "\n",
        "It is evident from our training and validation curves that our model is overfitting: the training and validation losses start diverging \n",
        "considerably after a few epochs. You are already familiar with a classic technique for fighting this phenomenon: dropout, consisting in \n",
        "randomly zeroing-out input units of a layer in order to break happenstance correlations in the training data that the layer is exposed to. \n",
        "How to correctly apply dropout in recurrent networks, however, is not a trivial question. It has long been known that applying dropout \n",
        "before a recurrent layer hinders learning rather than helping with regularization. In 2015, Yarin Gal, as part of his Ph.D. thesis on \n",
        "Bayesian deep learning, determined the proper way to use dropout with a recurrent network: the same dropout mask (the same pattern of \n",
        "dropped units) should be applied at every timestep, instead of a dropout mask that would vary randomly from timestep to timestep. What's \n",
        "more: in order to regularize the representations formed by the recurrent gates of layers such as GRU and LSTM, a temporally constant \n",
        "dropout mask should be applied to the inner recurrent activations of the layer (a \"recurrent\" dropout mask). Using the same dropout mask at \n",
        "every timestep allows the network to properly propagate its learning error through time; a temporally random dropout mask would instead \n",
        "disrupt this error signal and be harmful to the learning process.\n",
        "\n",
        "Yarin Gal did his research using Keras and helped build this mechanism directly into Keras recurrent layers. Every recurrent layer in Keras \n",
        "has two dropout-related arguments: `dropout`, a float specifying the dropout rate for input units of the layer, and `recurrent_dropout`, \n",
        "specifying the dropout rate of the recurrent units. Let's add dropout and recurrent dropout to our GRU layer and see how it impacts \n",
        "overfitting. Because networks being regularized with dropout always take longer to fully converge, we train our network for twice as many \n",
        "epochs."
      ]
    },
    {
      "cell_type": "code",
      "metadata": {
        "id": "aNGid9FJwLM1",
        "colab_type": "code",
        "colab": {
          "base_uri": "https://localhost:8080/",
          "height": 1000
        },
        "outputId": "e000abd3-2108-4914-b3a2-16bd5bad5521"
      },
      "source": [
        "from keras.models import Sequential\n",
        "from keras import layers\n",
        "from keras.optimizers import RMSprop\n",
        "\n",
        "model = Sequential()\n",
        "model.add(layers.GRU(32,\n",
        "                     dropout=0.2,\n",
        "                     recurrent_dropout=0.2,\n",
        "                     input_shape=(None, float_data.shape[-1])))\n",
        "model.add(layers.Dense(1))\n",
        "\n",
        "model.compile(optimizer=RMSprop(), loss='mae')\n",
        "history = model.fit_generator(train_gen,\n",
        "                              steps_per_epoch=500,\n",
        "                              epochs=40,\n",
        "                              validation_data=val_gen,\n",
        "                              validation_steps=val_steps)"
      ],
      "execution_count": 8,
      "outputs": [
        {
          "output_type": "stream",
          "text": [
            "WARNING:tensorflow:From /usr/local/lib/python3.6/dist-packages/keras/backend/tensorflow_backend.py:66: The name tf.get_default_graph is deprecated. Please use tf.compat.v1.get_default_graph instead.\n",
            "\n",
            "WARNING:tensorflow:From /usr/local/lib/python3.6/dist-packages/keras/backend/tensorflow_backend.py:541: The name tf.placeholder is deprecated. Please use tf.compat.v1.placeholder instead.\n",
            "\n",
            "WARNING:tensorflow:From /usr/local/lib/python3.6/dist-packages/keras/backend/tensorflow_backend.py:4432: The name tf.random_uniform is deprecated. Please use tf.random.uniform instead.\n",
            "\n",
            "WARNING:tensorflow:From /usr/local/lib/python3.6/dist-packages/keras/backend/tensorflow_backend.py:148: The name tf.placeholder_with_default is deprecated. Please use tf.compat.v1.placeholder_with_default instead.\n",
            "\n",
            "WARNING:tensorflow:From /usr/local/lib/python3.6/dist-packages/keras/backend/tensorflow_backend.py:3733: calling dropout (from tensorflow.python.ops.nn_ops) with keep_prob is deprecated and will be removed in a future version.\n",
            "Instructions for updating:\n",
            "Please use `rate` instead of `keep_prob`. Rate should be set to `rate = 1 - keep_prob`.\n",
            "WARNING:tensorflow:From /usr/local/lib/python3.6/dist-packages/keras/optimizers.py:793: The name tf.train.Optimizer is deprecated. Please use tf.compat.v1.train.Optimizer instead.\n",
            "\n",
            "WARNING:tensorflow:From /usr/local/lib/python3.6/dist-packages/tensorflow_core/python/ops/math_grad.py:1424: where (from tensorflow.python.ops.array_ops) is deprecated and will be removed in a future version.\n",
            "Instructions for updating:\n",
            "Use tf.where in 2.0, which has the same broadcast rule as np.where\n",
            "WARNING:tensorflow:From /usr/local/lib/python3.6/dist-packages/keras/backend/tensorflow_backend.py:1033: The name tf.assign_add is deprecated. Please use tf.compat.v1.assign_add instead.\n",
            "\n",
            "WARNING:tensorflow:From /usr/local/lib/python3.6/dist-packages/keras/backend/tensorflow_backend.py:1020: The name tf.assign is deprecated. Please use tf.compat.v1.assign instead.\n",
            "\n",
            "WARNING:tensorflow:From /usr/local/lib/python3.6/dist-packages/keras/backend/tensorflow_backend.py:3005: The name tf.Session is deprecated. Please use tf.compat.v1.Session instead.\n",
            "\n",
            "Epoch 1/40\n",
            "WARNING:tensorflow:From /usr/local/lib/python3.6/dist-packages/keras/backend/tensorflow_backend.py:190: The name tf.get_default_session is deprecated. Please use tf.compat.v1.get_default_session instead.\n",
            "\n",
            "WARNING:tensorflow:From /usr/local/lib/python3.6/dist-packages/keras/backend/tensorflow_backend.py:197: The name tf.ConfigProto is deprecated. Please use tf.compat.v1.ConfigProto instead.\n",
            "\n",
            "WARNING:tensorflow:From /usr/local/lib/python3.6/dist-packages/keras/backend/tensorflow_backend.py:207: The name tf.global_variables is deprecated. Please use tf.compat.v1.global_variables instead.\n",
            "\n",
            "WARNING:tensorflow:From /usr/local/lib/python3.6/dist-packages/keras/backend/tensorflow_backend.py:216: The name tf.is_variable_initialized is deprecated. Please use tf.compat.v1.is_variable_initialized instead.\n",
            "\n",
            "WARNING:tensorflow:From /usr/local/lib/python3.6/dist-packages/keras/backend/tensorflow_backend.py:223: The name tf.variables_initializer is deprecated. Please use tf.compat.v1.variables_initializer instead.\n",
            "\n",
            "500/500 [==============================] - 173s 346ms/step - loss: 8.0835 - val_loss: 5.7923\n",
            "Epoch 2/40\n",
            "500/500 [==============================] - 171s 341ms/step - loss: 5.9888 - val_loss: 4.6843\n",
            "Epoch 3/40\n",
            "500/500 [==============================] - 176s 351ms/step - loss: 5.0312 - val_loss: 3.8813\n",
            "Epoch 4/40\n",
            "500/500 [==============================] - 175s 350ms/step - loss: 4.6614 - val_loss: 3.7035\n",
            "Epoch 5/40\n",
            "500/500 [==============================] - 174s 347ms/step - loss: 4.4160 - val_loss: 3.1450\n",
            "Epoch 6/40\n",
            "500/500 [==============================] - 173s 346ms/step - loss: 4.3227 - val_loss: 3.0830\n",
            "Epoch 7/40\n",
            "500/500 [==============================] - 171s 342ms/step - loss: 4.2166 - val_loss: 3.3648\n",
            "Epoch 8/40\n",
            "500/500 [==============================] - 167s 334ms/step - loss: 4.1753 - val_loss: 3.1877\n",
            "Epoch 9/40\n",
            "500/500 [==============================] - 167s 334ms/step - loss: 4.1496 - val_loss: 3.0817\n",
            "Epoch 10/40\n",
            "500/500 [==============================] - 167s 335ms/step - loss: 4.0282 - val_loss: 2.8905\n",
            "Epoch 11/40\n",
            "500/500 [==============================] - 167s 335ms/step - loss: 3.9676 - val_loss: 3.1919\n",
            "Epoch 12/40\n",
            "500/500 [==============================] - 166s 332ms/step - loss: 3.9556 - val_loss: 3.2485\n",
            "Epoch 13/40\n",
            "500/500 [==============================] - 166s 332ms/step - loss: 3.9221 - val_loss: 3.0475\n",
            "Epoch 14/40\n",
            "500/500 [==============================] - 168s 336ms/step - loss: 3.9048 - val_loss: 2.9236\n",
            "Epoch 15/40\n",
            "500/500 [==============================] - 167s 334ms/step - loss: 3.8529 - val_loss: 3.0765\n",
            "Epoch 16/40\n",
            "500/500 [==============================] - 167s 335ms/step - loss: 3.8216 - val_loss: 3.0042\n",
            "Epoch 17/40\n",
            "500/500 [==============================] - 167s 333ms/step - loss: 3.8116 - val_loss: 2.9368\n",
            "Epoch 18/40\n",
            "500/500 [==============================] - 169s 337ms/step - loss: 3.7903 - val_loss: 3.1499\n",
            "Epoch 19/40\n",
            "500/500 [==============================] - 170s 340ms/step - loss: 3.7715 - val_loss: 3.1308\n",
            "Epoch 20/40\n",
            "500/500 [==============================] - 172s 344ms/step - loss: 3.7411 - val_loss: 2.9271\n",
            "Epoch 21/40\n",
            "500/500 [==============================] - 174s 347ms/step - loss: 3.7776 - val_loss: 3.0757\n",
            "Epoch 22/40\n",
            "500/500 [==============================] - 175s 351ms/step - loss: 3.7408 - val_loss: 3.0495\n",
            "Epoch 23/40\n",
            "500/500 [==============================] - 174s 347ms/step - loss: 3.7345 - val_loss: 3.1519\n",
            "Epoch 24/40\n",
            "500/500 [==============================] - 173s 347ms/step - loss: 3.7729 - val_loss: 2.9997\n",
            "Epoch 25/40\n",
            "500/500 [==============================] - 174s 347ms/step - loss: 3.7334 - val_loss: 2.9708\n",
            "Epoch 26/40\n",
            "500/500 [==============================] - 174s 349ms/step - loss: 3.6986 - val_loss: 3.1068\n",
            "Epoch 27/40\n",
            "500/500 [==============================] - 175s 351ms/step - loss: 3.6936 - val_loss: 3.6788\n",
            "Epoch 28/40\n",
            "500/500 [==============================] - 176s 351ms/step - loss: 3.7260 - val_loss: 2.8666\n",
            "Epoch 29/40\n",
            "500/500 [==============================] - 176s 352ms/step - loss: 3.6926 - val_loss: 3.3732\n",
            "Epoch 30/40\n",
            "500/500 [==============================] - 176s 353ms/step - loss: 3.6862 - val_loss: 3.0355\n",
            "Epoch 31/40\n",
            "500/500 [==============================] - 177s 355ms/step - loss: 3.7087 - val_loss: 3.1161\n",
            "Epoch 32/40\n",
            "500/500 [==============================] - 180s 360ms/step - loss: 3.6851 - val_loss: 2.8173\n",
            "Epoch 33/40\n",
            "500/500 [==============================] - 177s 355ms/step - loss: 3.6859 - val_loss: 2.8595\n",
            "Epoch 34/40\n",
            "500/500 [==============================] - 177s 354ms/step - loss: 3.6655 - val_loss: 3.2345\n",
            "Epoch 35/40\n",
            "500/500 [==============================] - 177s 354ms/step - loss: 3.6690 - val_loss: 3.3837\n",
            "Epoch 36/40\n",
            "500/500 [==============================] - 180s 359ms/step - loss: 3.6828 - val_loss: 2.9695\n",
            "Epoch 37/40\n",
            "500/500 [==============================] - 177s 355ms/step - loss: 3.6501 - val_loss: 3.1158\n",
            "Epoch 38/40\n",
            "500/500 [==============================] - 171s 342ms/step - loss: 3.6546 - val_loss: 2.9597\n",
            "Epoch 39/40\n",
            "500/500 [==============================] - 169s 338ms/step - loss: 3.6760 - val_loss: 2.9269\n",
            "Epoch 40/40\n",
            "500/500 [==============================] - 166s 332ms/step - loss: 3.6599 - val_loss: 3.0989\n"
          ],
          "name": "stdout"
        }
      ]
    },
    {
      "cell_type": "code",
      "metadata": {
        "id": "iRBTFeOkwLM4",
        "colab_type": "code",
        "colab": {
          "base_uri": "https://localhost:8080/",
          "height": 281
        },
        "outputId": "ff03b705-f7bd-477a-c591-02177122bccb"
      },
      "source": [
        "loss = history.history['loss']\n",
        "val_loss = history.history['val_loss']\n",
        "\n",
        "epochs = range(len(loss))\n",
        "\n",
        "plt.figure()\n",
        "\n",
        "plt.plot(epochs, loss, 'bo', label='Training loss')\n",
        "plt.plot(epochs, val_loss, 'b', label='Validation loss')\n",
        "plt.title('Training and validation loss')\n",
        "plt.legend()\n",
        "\n",
        "plt.show()"
      ],
      "execution_count": 11,
      "outputs": [
        {
          "output_type": "display_data",
          "data": {
            "image/png": "[encoded data removed]",
            "text/plain": [
              "<Figure size 432x288 with 1 Axes>"
            ]
          },
          "metadata": {
            "tags": []
          }
        }
      ]
    },
    {
      "cell_type": "markdown",
      "metadata": {
        "id": "MF4rhH3WwLM6",
        "colab_type": "text"
      },
      "source": [
        "Great success; we are no longer overfitting during the first 30 epochs. However, while we have more stable evaluation scores, our best \n",
        "scores are not much lower than they were previously."
      ]
    },
    {
      "cell_type": "markdown",
      "metadata": {
        "id": "7OPt3jZ0wLM7",
        "colab_type": "text"
      },
      "source": [
        "## Stacking recurrent layers\n",
        "\n",
        "Since we are no longer overfitting yet we seem to have hit a performance bottleneck, we should start considering increasing the capacity of \n",
        "our network. If you remember our description of the \"universal machine learning workflow\": it is a generally a good idea to increase the \n",
        "capacity of your network until overfitting becomes your primary obstacle (assuming that you are already taking basic steps to mitigate \n",
        "overfitting, such as using dropout). As long as you are not overfitting too badly, then you are likely under-capacity.\n",
        "\n",
        "Increasing network capacity is typically done by increasing the number of units in the layers, or adding more layers. Recurrent layer \n",
        "stacking is a classic way to build more powerful recurrent networks: for instance, what currently powers the Google translate algorithm is \n",
        "a stack of seven large LSTM layers -- that's huge.\n",
        "\n",
        "To stack recurrent layers on top of each other in Keras, all intermediate layers should return their full sequence of outputs (a 3D tensor) \n",
        "rather than their output at the last timestep. This is done by specifying `return_sequences=True`: "
      ]
    },
    {
      "cell_type": "code",
      "metadata": {
        "id": "DRHKJBA0wLM7",
        "colab_type": "code",
        "colab": {
          "base_uri": "https://localhost:8080/",
          "height": 1000
        },
        "outputId": "3245a80a-c513-400f-80f4-55a31b04b874"
      },
      "source": [
        "from keras.models import Sequential\n",
        "from keras import layers\n",
        "from keras.optimizers import RMSprop\n",
        "\n",
        "model = Sequential()\n",
        "model.add(layers.GRU(32,\n",
        "                     dropout=0.1,\n",
        "                     recurrent_dropout=0.5,\n",
        "                     return_sequences=True,\n",
        "                     input_shape=(None, float_data.shape[-1])))\n",
        "model.add(layers.GRU(64, activation='relu',\n",
        "                     dropout=0.1, \n",
        "                     recurrent_dropout=0.5))\n",
        "model.add(layers.Dense(1))\n",
        "\n",
        "model.compile(optimizer=RMSprop(), loss='mae')\n",
        "history = model.fit_generator(train_gen,\n",
        "                              steps_per_epoch=500,  \n",
        "                              epochs=40,\n",
        "                              validation_data=val_gen,\n",
        "                              validation_steps=val_steps)"
      ],
      "execution_count": 12,
      "outputs": [
        {
          "output_type": "stream",
          "text": [
            "Epoch 1/40\n",
            "500/500 [==============================] - 341s 682ms/step - loss: 6.3600 - val_loss: 4.0133\n",
            "Epoch 2/40\n",
            "500/500 [==============================] - 339s 678ms/step - loss: 5.0982 - val_loss: 3.8513\n",
            "Epoch 3/40\n",
            "500/500 [==============================] - 338s 676ms/step - loss: 4.9264 - val_loss: 3.6339\n",
            "Epoch 4/40\n",
            "500/500 [==============================] - 346s 692ms/step - loss: 4.7632 - val_loss: 3.5945\n",
            "Epoch 5/40\n",
            "500/500 [==============================] - 354s 707ms/step - loss: 4.5810 - val_loss: 3.4976\n",
            "Epoch 6/40\n",
            "500/500 [==============================] - 353s 707ms/step - loss: 4.4452 - val_loss: 3.6336\n",
            "Epoch 7/40\n",
            "500/500 [==============================] - 355s 710ms/step - loss: 4.3896 - val_loss: 3.4579\n",
            "Epoch 8/40\n",
            "500/500 [==============================] - 356s 712ms/step - loss: 4.3178 - val_loss: 3.5108\n",
            "Epoch 9/40\n",
            "500/500 [==============================] - 359s 718ms/step - loss: 4.2360 - val_loss: 3.5439\n",
            "Epoch 10/40\n",
            "500/500 [==============================] - 357s 714ms/step - loss: 3.9629 - val_loss: 3.1319\n",
            "Epoch 11/40\n",
            "500/500 [==============================] - 358s 716ms/step - loss: 3.9039 - val_loss: 3.1429\n",
            "Epoch 12/40\n",
            "500/500 [==============================] - 361s 721ms/step - loss: 3.8319 - val_loss: 3.0778\n",
            "Epoch 13/40\n",
            "500/500 [==============================] - 362s 723ms/step - loss: 3.8020 - val_loss: 3.0455\n",
            "Epoch 14/40\n",
            "500/500 [==============================] - 363s 725ms/step - loss: 3.7953 - val_loss: 3.1053\n",
            "Epoch 15/40\n",
            "500/500 [==============================] - 360s 720ms/step - loss: 3.7697 - val_loss: 3.1785\n",
            "Epoch 16/40\n",
            "500/500 [==============================] - 360s 721ms/step - loss: 3.7278 - val_loss: 3.0600\n",
            "Epoch 17/40\n",
            "500/500 [==============================] - 360s 720ms/step - loss: 3.7311 - val_loss: 3.0517\n",
            "Epoch 18/40\n",
            "500/500 [==============================] - 355s 710ms/step - loss: 3.7116 - val_loss: 3.1889\n",
            "Epoch 19/40\n",
            "500/500 [==============================] - 342s 684ms/step - loss: 3.6940 - val_loss: 3.0396\n",
            "Epoch 20/40\n",
            "500/500 [==============================] - 341s 682ms/step - loss: 3.7210 - val_loss: 3.2441\n",
            "Epoch 21/40\n",
            "500/500 [==============================] - 344s 688ms/step - loss: 42620898250.3272 - val_loss: 3.1346\n",
            "Epoch 22/40\n",
            "500/500 [==============================] - 339s 677ms/step - loss: 3.6797 - val_loss: 3.1180\n",
            "Epoch 23/40\n",
            "500/500 [==============================] - 338s 675ms/step - loss: 3.6762 - val_loss: 3.1681\n",
            "Epoch 24/40\n",
            "500/500 [==============================] - 338s 676ms/step - loss: 3.6624 - val_loss: 3.0420\n",
            "Epoch 25/40\n",
            "500/500 [==============================] - 338s 675ms/step - loss: 3.6746 - val_loss: 3.0534\n",
            "Epoch 26/40\n",
            "500/500 [==============================] - 340s 679ms/step - loss: 3.6523 - val_loss: 2.9806\n",
            "Epoch 27/40\n",
            "500/500 [==============================] - 341s 682ms/step - loss: 3.6735 - val_loss: 3.0000\n",
            "Epoch 28/40\n",
            "500/500 [==============================] - 343s 685ms/step - loss: 3.6473 - val_loss: 3.0911\n",
            "Epoch 29/40\n",
            "500/500 [==============================] - 340s 680ms/step - loss: 3.6575 - val_loss: 2.9969\n",
            "Epoch 30/40\n",
            "500/500 [==============================] - 338s 676ms/step - loss: 3.6501 - val_loss: 3.1597\n",
            "Epoch 31/40\n",
            "500/500 [==============================] - 337s 674ms/step - loss: 13.1338 - val_loss: 2.9852\n",
            "Epoch 32/40\n",
            "500/500 [==============================] - 337s 674ms/step - loss: 3.6585 - val_loss: 2.9525\n",
            "Epoch 33/40\n",
            "500/500 [==============================] - 338s 676ms/step - loss: 123538120.2327 - val_loss: 3.0906\n",
            "Epoch 34/40\n",
            "500/500 [==============================] - 338s 675ms/step - loss: 256234.3766 - val_loss: 3.0762\n",
            "Epoch 35/40\n",
            "500/500 [==============================] - 339s 678ms/step - loss: 3.5942 - val_loss: 3.3444\n",
            "Epoch 36/40\n",
            "500/500 [==============================] - 339s 678ms/step - loss: 2733964004.9003 - val_loss: 3.0310\n",
            "Epoch 37/40\n",
            "500/500 [==============================] - 337s 674ms/step - loss: 195297823784735584.0000 - val_loss: 2.9476\n",
            "Epoch 38/40\n",
            "500/500 [==============================] - 336s 673ms/step - loss: 3.6379 - val_loss: 3.1694\n",
            "Epoch 39/40\n",
            "500/500 [==============================] - 339s 678ms/step - loss: 51515576625863328.0000 - val_loss: 2.9929\n",
            "Epoch 40/40\n",
            "500/500 [==============================] - 337s 674ms/step - loss: 3.6217 - val_loss: 3.0130\n"
          ],
          "name": "stdout"
        }
      ]
    },
    {
      "cell_type": "markdown",
      "metadata": {
        "id": "zIzBZcWAwLM9",
        "colab_type": "text"
      },
      "source": [
        "Let's take a look at our results:"
      ]
    },
    {
      "cell_type": "code",
      "metadata": {
        "id": "owv9Rm9fwLM9",
        "colab_type": "code",
        "colab": {
          "base_uri": "https://localhost:8080/",
          "height": 281
        },
        "outputId": "e1639142-c8d0-48d5-f2df-5ad081274221"
      },
      "source": [
        "loss = history.history['loss']\n",
        "val_loss = history.history['val_loss']\n",
        "\n",
        "epochs = range(len(loss))\n",
        "\n",
        "plt.figure()\n",
        "\n",
        "plt.plot(epochs, loss, 'bo', label='Training loss')\n",
        "plt.plot(epochs, val_loss, 'b', label='Validation loss')\n",
        "plt.title('Training and validation loss')\n",
        "plt.legend()\n",
        "\n",
        "plt.show()"
      ],
      "execution_count": 13,
      "outputs": [
        {
          "output_type": "display_data",
          "data": {
            "image/png": "[encoded data removed]",
            "text/plain": [
              "<Figure size 432x288 with 1 Axes>"
            ]
          },
          "metadata": {
            "tags": []
          }
        }
      ]
    },
    {
      "cell_type": "markdown",
      "metadata": {
        "id": "cJFpSF00wLM_",
        "colab_type": "text"
      },
      "source": [
        "We can see that the added layers does improve ours results by a bit, albeit not very significantly. We can draw two conclusions:\n",
        "\n",
        "* Since we are still not overfitting too badly, we could safely increase the size of our layers, in quest for a bit of validation loss \n",
        "improvement. This does have a non-negligible computational cost, though. \n",
        "* Since adding a layer did not help us by a significant factor, we may be seeing diminishing returns to increasing network capacity at this \n",
        "point."
      ]
    },
    {
      "cell_type": "markdown",
      "metadata": {
        "id": "_9WIBTgJwLNA",
        "colab_type": "text"
      },
      "source": [
        "## Using bidirectional RNNs\n",
        "\n",
        "\n",
        "The last technique that we will introduce in this section is called \"bidirectional RNNs\". A bidirectional RNN is common RNN variant which \n",
        "can offer higher performance than a regular RNN on certain tasks. It is frequently used in natural language processing -- you could call it \n",
        "the Swiss army knife of deep learning for NLP.\n",
        "\n",
        "RNNs are notably order-dependent, or time-dependent: they process the timesteps of their input sequences in order, and shuffling or \n",
        "reversing the timesteps can completely change the representations that the RNN will extract from the sequence. This is precisely the reason \n",
        "why they perform well on problems where order is meaningful, such as our temperature forecasting problem. A bidirectional RNN exploits \n",
        "the order-sensitivity of RNNs: it simply consists of two regular RNNs, such as the GRU or LSTM layers that you are already familiar with, \n",
        "each processing input sequence in one direction (chronologically and antichronologically), then merging their representations. By \n",
        "processing a sequence both way, a bidirectional RNN is able to catch patterns that may have been overlooked by a one-direction RNN.\n",
        "\n",
        "Remarkably, the fact that the RNN layers in this section have so far processed sequences in chronological order (older timesteps first) may \n",
        "have been an arbitrary decision. At least, it's a decision we made no attempt at questioning so far. Could it be that our RNNs could have \n",
        "performed well enough if it were processing input sequences in antichronological order, for instance (newer timesteps first)? Let's try \n",
        "this in practice and see what we get. All we need to do is write a variant of our data generator, where the input sequences get reverted \n",
        "along the time dimension (replace the last line with `yield samples[:, ::-1, :], targets`). Training the same one-GRU-layer network as we \n",
        "used in the first experiment in this section, we get the following results:"
      ]
    },
    {
      "cell_type": "code",
      "metadata": {
        "id": "SE6VHUnkwLNA",
        "colab_type": "code",
        "colab": {}
      },
      "source": [
        "def reverse_order_generator(data, lookback, delay, min_index, max_index,\n",
        "                            shuffle=False, batch_size=128, step=6):\n",
        "    if max_index is None:\n",
        "        max_index = len(data) - delay - 1\n",
        "    i = min_index + lookback\n",
        "    while 1:\n",
        "        if shuffle:\n",
        "            rows = np.random.randint(\n",
        "                min_index + lookback, max_index, size=batch_size)\n",
        "        else:\n",
        "            if i + batch_size >= max_index:\n",
        "                i = min_index + lookback\n",
        "            rows = np.arange(i, min(i + batch_size, max_index))\n",
        "            i += len(rows)\n",
        "\n",
        "        samples = np.zeros((len(rows),\n",
        "                           lookback // step,\n",
        "                           data.shape[-1]))\n",
        "        targets = np.zeros((len(rows),))\n",
        "        for j, row in enumerate(rows):\n",
        "            indices = range(rows[j] - lookback, rows[j], step)\n",
        "            samples[j] = data[indices]\n",
        "            targets[j] = data[rows[j] + delay][1]\n",
        "        yield samples[:, ::-1, :], targets\n",
        "        \n",
        "train_gen_reverse = reverse_order_generator(\n",
        "    float_data,\n",
        "    lookback=lookback,\n",
        "    delay=delay,\n",
        "    min_index=0,\n",
        "    max_index=200000,\n",
        "    shuffle=True,\n",
        "    step=step, \n",
        "    batch_size=batch_size)\n",
        "val_gen_reverse = reverse_order_generator(\n",
        "    float_data,\n",
        "    lookback=lookback,\n",
        "    delay=delay,\n",
        "    min_index=200001,\n",
        "    max_index=300000,\n",
        "    step=step,\n",
        "    batch_size=batch_size)"
      ],
      "execution_count": 0,
      "outputs": []
    },
    {
      "cell_type": "code",
      "metadata": {
        "id": "BcDjosZjwLNC",
        "colab_type": "code",
        "colab": {
          "base_uri": "https://localhost:8080/",
          "height": 52
        },
        "outputId": "7ebe9753-3dd2-4640-b588-72b324b34f2e"
      },
      "source": [
        "model = Sequential()\n",
        "model.add(layers.GRU(32, input_shape=(None, float_data.shape[-1])))\n",
        "model.add(layers.Dense(1))\n",
        "\n",
        "model.compile(optimizer=RMSprop(), loss='mae')\n",
        "history = model.fit_generator(train_gen_reverse,\n",
        "                              steps_per_epoch=500,\n",
        "                              epochs=20,\n",
        "                              validation_data=val_gen_reverse,\n",
        "                              validation_steps=val_steps)"
      ],
      "execution_count": 0,
      "outputs": [
        {
          "output_type": "stream",
          "text": [
            "Epoch 1/20\n",
            "428/500 [========================>.....] - ETA: 16s - loss: 8.6296"
          ],
          "name": "stdout"
        }
      ]
    },
    {
      "cell_type": "code",
      "metadata": {
        "id": "sAWmNis8wLNE",
        "colab_type": "code",
        "colab": {
          "base_uri": "https://localhost:8080/",
          "height": 281
        },
        "outputId": "bc96e64e-5717-4dfd-91f1-303a0828aa18"
      },
      "source": [
        "loss = history.history['loss']\n",
        "val_loss = history.history['val_loss']\n",
        "\n",
        "epochs = range(len(loss))\n",
        "\n",
        "plt.figure()\n",
        "\n",
        "plt.plot(epochs, loss, 'bo', label='Training loss')\n",
        "plt.plot(epochs, val_loss, 'b', label='Validation loss')\n",
        "plt.title('Training and validation loss')\n",
        "plt.legend()\n",
        "\n",
        "plt.show()"
      ],
      "execution_count": 16,
      "outputs": [
        {
          "output_type": "display_data",
          "data": {
            "image/png": "[encoded data removed]",
            "text/plain": [
              "<Figure size 432x288 with 1 Axes>"
            ]
          },
          "metadata": {
            "tags": []
          }
        }
      ]
    },
    {
      "cell_type": "markdown",
      "metadata": {
        "id": "eDc8gATgwLNG",
        "colab_type": "text"
      },
      "source": [
        "\n",
        "So the reversed-order GRU strongly underperforms even the common-sense baseline, indicating that the in our case chronological processing is very \n",
        "important to the success of our approach. This makes perfect sense: the underlying GRU layer will typically be better at remembering the \n",
        "recent past than the distant past, and naturally the more recent weather data points are more predictive than older data points in our \n",
        "problem (that's precisely what makes the common-sense baseline a fairly strong baseline). Thus the chronological version of the layer is \n",
        "bound to outperform the reversed-order version. Importantly, this is generally not true for many other problems, including natural \n",
        "language: intuitively, the importance of a word in understanding a sentence is not usually dependent on its position in the sentence. Let's \n",
        "try the same trick on the LSTM IMDB example from the previous section:"
      ]
    },
    {
      "cell_type": "code",
      "metadata": {
        "id": "YEudjp5uwLNG",
        "colab_type": "code",
        "colab": {}
      },
      "source": [
        "from keras.datasets import imdb\n",
        "from keras.preprocessing import sequence\n",
        "from keras import layers\n",
        "from keras.models import Sequential\n",
        "\n",
        "# Number of words to consider as features\n",
        "max_features = 10000\n",
        "# Cut texts after this number of words (among top max_features most common words)\n",
        "maxlen = 500\n",
        "\n",
        "# Load data\n",
        "(x_train, y_train), (x_test, y_test) = imdb.load_data(num_words=max_features)\n",
        "\n",
        "# Reverse sequences\n",
        "x_train = [x[::-1] for x in x_train]\n",
        "x_test = [x[::-1] for x in x_test]\n",
        "\n",
        "# Pad sequences\n",
        "x_train = sequence.pad_sequences(x_train, maxlen=maxlen)\n",
        "x_test = sequence.pad_sequences(x_test, maxlen=maxlen)\n",
        "\n",
        "model = Sequential()\n",
        "model.add(layers.Embedding(max_features, 128))\n",
        "model.add(layers.LSTM(32))\n",
        "model.add(layers.Dense(1, activation='sigmoid'))\n",
        "\n",
        "model.compile(optimizer='rmsprop',\n",
        "              loss='binary_crossentropy',\n",
        "              metrics=['acc'])\n",
        "history = model.fit(x_train, y_train,\n",
        "                    epochs=10,\n",
        "                    batch_size=128,\n",
        "                    validation_split=0.2)"
      ],
      "execution_count": 0,
      "outputs": []
    },
    {
      "cell_type": "markdown",
      "metadata": {
        "id": "GhYS2q9EwLNI",
        "colab_type": "text"
      },
      "source": [
        "\n",
        "We get near-identical performance as the chronological-order LSTM we tried in the previous section.\n",
        "\n",
        "Thus, remarkably, on such a text dataset, reversed-order processing works just as well as chronological processing, confirming our \n",
        "hypothesis that, albeit word order *does* matter in understanding language, *which* order you use isn't crucial. Importantly, a RNN trained \n",
        "on reversed sequences will learn different representations than one trained on the original sequences, in much the same way that you would \n",
        "have quite different mental models if time flowed backwards in the real world -- if you lived a life where you died on your first day and \n",
        "you were born on your last day. In machine learning, representations that are *different* yet *useful* are always worth exploiting, and the \n",
        "more they differ the better: they offer a new angle from which to look at your data, capturing aspects of the data that were missed by other \n",
        "approaches, and thus they can allow to boost performance on a task. This is the intuition behind \"ensembling\", a concept that we will \n",
        "introduce in the next chapter.\n",
        "\n",
        "A bidirectional RNN exploits this idea to improve upon the performance of chronological-order RNNs: it looks at its inputs sequence both \n",
        "ways, obtaining potentially richer representations and capturing patterns that may have been missed by the chronological-order version alone."
      ]
    },
    {
      "cell_type": "markdown",
      "metadata": {
        "id": "gPvNyX5kwLNK",
        "colab_type": "text"
      },
      "source": [
        "![bidirectional rnn](https://s3.amazonaws.com/book.keras.io/img/ch6/bidirectional_rnn.png)"
      ]
    },
    {
      "cell_type": "markdown",
      "metadata": {
        "id": "9Eijg_yTwLNL",
        "colab_type": "text"
      },
      "source": [
        "To instantiate a bidirectional RNN in Keras, one would use the `Bidirectional` layer, which takes as first argument a recurrent layer \n",
        "instance. `Bidirectional` will create a second, separate instance of this recurrent layer, and will use one instance for processing the \n",
        "input sequences in chronological order and the other instance for processing the input sequences in reversed order. Let's try it on the \n",
        "IMDB sentiment analysis task:"
      ]
    },
    {
      "cell_type": "code",
      "metadata": {
        "id": "lFzwaWkowLNL",
        "colab_type": "code",
        "colab": {}
      },
      "source": [
        "from keras import backend as K\n",
        "K.clear_session()"
      ],
      "execution_count": 0,
      "outputs": []
    },
    {
      "cell_type": "code",
      "metadata": {
        "id": "ceourejrwLNN",
        "colab_type": "code",
        "colab": {}
      },
      "source": [
        "model = Sequential()\n",
        "model.add(layers.Embedding(max_features, 32))\n",
        "model.add(layers.Bidirectional(layers.LSTM(32)))\n",
        "model.add(layers.Dense(1, activation='sigmoid'))\n",
        "\n",
        "model.compile(optimizer='rmsprop', loss='binary_crossentropy', metrics=['acc'])\n",
        "history = model.fit(x_train, y_train, epochs=10, batch_size=128, validation_split=0.2)"
      ],
      "execution_count": 0,
      "outputs": []
    },
    {
      "cell_type": "markdown",
      "metadata": {
        "id": "-4rmP2-ZwLNO",
        "colab_type": "text"
      },
      "source": [
        "It performs slightly better than the regular LSTM we tried in the previous section, going above 88% validation accuracy. It also seems to \n",
        "overfit faster, which is unsurprising since a bidirectional layer has twice more parameters than a chronological LSTM. With some \n",
        "regularization, the bidirectional approach would likely be a strong performer on this task.\n",
        "\n",
        "Now let's try the same approach on the weather prediction task:"
      ]
    },
    {
      "cell_type": "code",
      "metadata": {
        "id": "L6xTh3hfwLNP",
        "colab_type": "code",
        "colab": {}
      },
      "source": [
        "from keras.models import Sequential\n",
        "from keras import layers\n",
        "from keras.optimizers import RMSprop\n",
        "\n",
        "model = Sequential()\n",
        "model.add(layers.Bidirectional(\n",
        "    layers.GRU(32), input_shape=(None, float_data.shape[-1])))\n",
        "model.add(layers.Dense(1))\n",
        "\n",
        "model.compile(optimizer=RMSprop(), loss='mae')\n",
        "history = model.fit_generator(train_gen,\n",
        "                              steps_per_epoch=500,\n",
        "                              epochs=40,\n",
        "                              validation_data=val_gen,\n",
        "                              validation_steps=val_steps)"
      ],
      "execution_count": 0,
      "outputs": []
    },
    {
      "cell_type": "markdown",
      "metadata": {
        "id": "F-jbBte8wLNR",
        "colab_type": "text"
      },
      "source": [
        "\n",
        "It performs about as well as the regular GRU layer. It's easy to understand why: all of the predictive capacity must be coming from the \n",
        "chronological half of the network, since the anti-chronological half is known to be severely underperforming on this task (again, because \n",
        "the recent past matters much more than the distant past in this case)."
      ]
    },
    {
      "cell_type": "markdown",
      "metadata": {
        "id": "DPBY6OpewLNR",
        "colab_type": "text"
      },
      "source": [
        "\n",
        "## Going even further\n",
        "\n",
        "At this stage, there are still many other things you could try in order to improve performance on our weather forecasting problem:\n",
        "\n",
        "* Adjust the number of units in each recurrent layer in the stacked setup. Our current choices are largely arbitrary and thus likely \n",
        "suboptimal.\n",
        "* Adjust the learning rate used by our `RMSprop` optimizer.\n",
        "* Try using `LSTM` layers instead of `GRU` layers.\n",
        "* Try using a bigger densely-connected regressor on top of the recurrent layers, i.e. a bigger `Dense` layer or even a stack of `Dense` \n",
        "layers.\n",
        "* Don't forget to eventually run the best performing models (in terms of validation MAE) on the test set! Least you start developing \n",
        "architectures that are overfitting to the validation set.   \n",
        "\n",
        "As usual: deep learning is more an art than a science, and while we can provide guidelines as to what is likely to work or not work on a \n",
        "given problem, ultimately every problem is unique and you will have to try and evaluate different strategies empirically. There is \n",
        "currently no theory that will tell you in advance precisely what you should do to optimally solve a problem. You must try and iterate.\n",
        "\n",
        "\n",
        "## Wrapping up\n",
        "\n",
        "Here's what you should take away from this section:\n",
        "\n",
        "* As you first learned in Chapter 4, when approaching a new problem, \n",
        "it is good to first establish common sense baselines for your metric of choice. If you don't have a \n",
        "baseline to beat, you can't tell if you are making any real progress.\n",
        "* Try simple models before expensive ones, to justify the additional expense. Sometimes a simple model will turn out to be your best option.\n",
        "* On data where temporal ordering matters, recurrent networks are a great fit and easily outperform models that first flatten the temporal \n",
        "data.\n",
        "* To use dropout with recurrent networks, one should use a time-constant dropout mask and recurrent dropout mask. This is built into Keras \n",
        "recurrent layers, so all you have to do is use the `dropout` and `recurrent_dropout` arguments of recurrent layers.\n",
        "* Stacked RNNs provide more representational power than a single RNN layer. They are also much more expensive, and thus not always worth it. \n",
        "While they offer clear gains on complex problems (e.g. machine translation), they might not always be relevant to smaller, simpler problems.\n",
        "* Bidirectional RNNs, which look at a sequence both ways, are very useful on natural language processing problems. However, they will not \n",
        "be strong performers on sequence data where the recent past is much more informative than the beginning of the sequence.\n",
        "\n",
        "Note there are two important concepts that we will not cover in detail here: recurrent \"attention\", and sequence masking. Both tend to be \n",
        "especially relevant for natural language processing, and are not particularly applicable to our temperature forecasting problem. We will \n",
        "leave them for future study outside of this book."
      ]
    }
  ]
}