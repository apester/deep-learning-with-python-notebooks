{
  "nbformat": 4,
  "nbformat_minor": 0,
  "metadata": {
    "kernelspec": {
      "name": "python3",
      "display_name": "Python 3"
    },
    "language_info": {
      "codemirror_mode": {
        "name": "ipython",
        "version": 3
      },
      "file_extension": ".py",
      "mimetype": "text/x-python",
      "name": "python",
      "nbconvert_exporter": "python",
      "pygments_lexer": "ipython3",
      "version": "3.5.2"
    },
    "colab": {
      "name": "6.4-sequence-processing-with-convnets.ipynb",
      "provenance": [],
      "include_colab_link": true
    },
    "accelerator": "GPU"
  },
  "cells": [
    {
      "cell_type": "markdown",
      "metadata": {
        "id": "view-in-github",
        "colab_type": "text"
      },
      "source": [
        "<a href=\"https://colab.research.google.com/github/apester/deep-learning-with-python-notebooks/blob/master/6_4_sequence_processing_with_convnets.ipynb\" target=\"_parent\"><img src=\"https://colab.research.google.com/assets/colab-badge.svg\" alt=\"Open In Colab\"/></a>"
      ]
    },
    {
      "cell_type": "code",
      "metadata": {
        "id": "eFBcSDoTBfwP",
        "colab_type": "code",
        "colab": {},
        "outputId": "cf474800-5d8e-4872-9edd-80e0dbcf2f36"
      },
      "source": [
        "import keras\n",
        "keras.__version__"
      ],
      "execution_count": 0,
      "outputs": [
        {
          "output_type": "stream",
          "text": [
            "Using TensorFlow backend.\n"
          ],
          "name": "stderr"
        },
        {
          "output_type": "execute_result",
          "data": {
            "text/plain": [
              "'2.0.8'"
            ]
          },
          "metadata": {
            "tags": []
          },
          "execution_count": 1
        }
      ]
    },
    {
      "cell_type": "markdown",
      "metadata": {
        "id": "KatWPar_BfwZ",
        "colab_type": "text"
      },
      "source": [
        "# Sequence processing with convnets\n",
        "\n",
        "This notebook contains the code samples found in Chapter 6, Section 4 of [Deep Learning with Python](https://www.manning.com/books/deep-learning-with-python?a_aid=keras&a_bid=76564dff). Note that the original text features far more content, in particular further explanations and figures: in this notebook, you will only find source code and related comments.\n",
        "\n",
        "\n",
        "## Implementing a 1D convnet\n",
        "\n",
        "In Keras, you would use a 1D convnet via the `Conv1D` layer, which has a very similar interface to `Conv2D`. It takes as input 3D tensors \n",
        "with shape `(samples, time, features)` and also returns similarly-shaped 3D tensors. The convolution window is a 1D window on the temporal \n",
        "axis, axis 1 in the input tensor.\n",
        "\n",
        "Let's build a simple 2-layer 1D convnet and apply it to the IMDB sentiment classification task that you are already familiar with.\n",
        "\n",
        "As a reminder, this is the code for obtaining and preprocessing the data:"
      ]
    },
    {
      "cell_type": "code",
      "metadata": {
        "id": "rx9vMhcwBfwa",
        "colab_type": "code",
        "colab": {
          "base_uri": "https://localhost:8080/",
          "height": 220
        },
        "outputId": "781b5a15-4fc6-434c-a261-4bce5eb9ac04"
      },
      "source": [
        "from keras.datasets import imdb\n",
        "from keras.preprocessing import sequence\n",
        "\n",
        "max_features = 10000  # number of words to consider as features\n",
        "max_len = 500  # cut texts after this number of words (among top max_features most common words)\n",
        "\n",
        "print('Loading data...')\n",
        "(x_train, y_train), (x_test, y_test) = imdb.load_data(num_words=max_features)\n",
        "print(len(x_train), 'train sequences')\n",
        "print(len(x_test), 'test sequences')\n",
        "\n",
        "print('Pad sequences (samples x time)')\n",
        "x_train = sequence.pad_sequences(x_train, maxlen=max_len)\n",
        "x_test = sequence.pad_sequences(x_test, maxlen=max_len)\n",
        "print('x_train shape:', x_train.shape)\n",
        "print('x_test shape:', x_test.shape)"
      ],
      "execution_count": 1,
      "outputs": [
        {
          "output_type": "stream",
          "text": [
            "Using TensorFlow backend.\n"
          ],
          "name": "stderr"
        },
        {
          "output_type": "display_data",
          "data": {
            "text/html": [
              "<p style=\"color: red;\">\n",
              "The default version of TensorFlow in Colab will soon switch to TensorFlow 2.x.<br>\n",
              "We recommend you <a href=\"https://www.tensorflow.org/guide/migrate\" target=\"_blank\">upgrade</a> now \n",
              "or ensure your notebook will continue to use TensorFlow 1.x via the <code>%tensorflow_version 1.x</code> magic:\n",
              "<a href=\"https://colab.research.google.com/notebooks/tensorflow_version.ipynb\" target=\"_blank\">more info</a>.</p>\n"
            ],
            "text/plain": [
              "<IPython.core.display.HTML object>"
            ]
          },
          "metadata": {
            "tags": []
          }
        },
        {
          "output_type": "stream",
          "text": [
            "Loading data...\n",
            "Downloading data from https://s3.amazonaws.com/text-datasets/imdb.npz\n",
            "17465344/17464789 [==============================] - 1s 0us/step\n",
            "25000 train sequences\n",
            "25000 test sequences\n",
            "Pad sequences (samples x time)\n",
            "x_train shape: (25000, 500)\n",
            "x_test shape: (25000, 500)\n"
          ],
          "name": "stdout"
        }
      ]
    },
    {
      "cell_type": "markdown",
      "metadata": {
        "id": "3HGjIWt4Bfwe",
        "colab_type": "text"
      },
      "source": [
        "\n",
        "1D convnets are structured in the same way as their 2D counter-parts that you have used in Chapter 5: they consist of a stack of `Conv1D` \n",
        "and `MaxPooling1D` layers, eventually ending in either a global pooling layer or a `Flatten` layer, turning the 3D outputs into 2D outputs, \n",
        "allowing to add one or more `Dense` layers to the model, for classification or regression.\n",
        "\n",
        "One difference, though, is the fact that we can afford to use larger convolution windows with 1D convnets. Indeed, with a 2D convolution \n",
        "layer, a 3x3 convolution window contains 3*3 = 9 feature vectors, but with a 1D convolution layer, a convolution window of size 3 would \n",
        "only contain 3 feature vectors. We can thus easily afford 1D convolution windows of size 7 or 9.\n",
        "\n",
        "This is our example 1D convnet for the IMDB dataset:"
      ]
    },
    {
      "cell_type": "code",
      "metadata": {
        "id": "4xC5Q3UjBfwh",
        "colab_type": "code",
        "colab": {
          "base_uri": "https://localhost:8080/",
          "height": 1000
        },
        "outputId": "d0d8ffdb-726b-48e3-fb6c-408af1a3ac3d"
      },
      "source": [
        "from keras.models import Sequential\n",
        "from keras import layers\n",
        "from keras.optimizers import RMSprop\n",
        "\n",
        "model = Sequential()\n",
        "model.add(layers.Embedding(max_features, 128, input_length=max_len))\n",
        "model.add(layers.Conv1D(32, 7, activation='relu'))\n",
        "model.add(layers.MaxPooling1D(5))\n",
        "model.add(layers.Conv1D(32, 7, activation='relu'))\n",
        "model.add(layers.GlobalMaxPooling1D())\n",
        "model.add(layers.Dense(1))\n",
        "\n",
        "model.summary()\n",
        "\n",
        "model.compile(optimizer=RMSprop(lr=1e-4),\n",
        "              loss='binary_crossentropy',\n",
        "              metrics=['acc'])\n",
        "history = model.fit(x_train, y_train,\n",
        "                    epochs=10,\n",
        "                    batch_size=128,\n",
        "                    validation_split=0.2)"
      ],
      "execution_count": 2,
      "outputs": [
        {
          "output_type": "stream",
          "text": [
            "WARNING:tensorflow:From /usr/local/lib/python3.6/dist-packages/keras/backend/tensorflow_backend.py:66: The name tf.get_default_graph is deprecated. Please use tf.compat.v1.get_default_graph instead.\n",
            "\n",
            "WARNING:tensorflow:From /usr/local/lib/python3.6/dist-packages/keras/backend/tensorflow_backend.py:541: The name tf.placeholder is deprecated. Please use tf.compat.v1.placeholder instead.\n",
            "\n",
            "WARNING:tensorflow:From /usr/local/lib/python3.6/dist-packages/keras/backend/tensorflow_backend.py:4432: The name tf.random_uniform is deprecated. Please use tf.random.uniform instead.\n",
            "\n",
            "WARNING:tensorflow:From /usr/local/lib/python3.6/dist-packages/keras/backend/tensorflow_backend.py:4267: The name tf.nn.max_pool is deprecated. Please use tf.nn.max_pool2d instead.\n",
            "\n",
            "Model: \"sequential_1\"\n",
            "_________________________________________________________________\n",
            "Layer (type)                 Output Shape              Param #   \n",
            "=================================================================\n",
            "embedding_1 (Embedding)      (None, 500, 128)          1280000   \n",
            "_________________________________________________________________\n",
            "conv1d_1 (Conv1D)            (None, 494, 32)           28704     \n",
            "_________________________________________________________________\n",
            "max_pooling1d_1 (MaxPooling1 (None, 98, 32)            0         \n",
            "_________________________________________________________________\n",
            "conv1d_2 (Conv1D)            (None, 92, 32)            7200      \n",
            "_________________________________________________________________\n",
            "global_max_pooling1d_1 (Glob (None, 32)                0         \n",
            "_________________________________________________________________\n",
            "dense_1 (Dense)              (None, 1)                 33        \n",
            "=================================================================\n",
            "Total params: 1,315,937\n",
            "Trainable params: 1,315,937\n",
            "Non-trainable params: 0\n",
            "_________________________________________________________________\n",
            "WARNING:tensorflow:From /usr/local/lib/python3.6/dist-packages/keras/optimizers.py:793: The name tf.train.Optimizer is deprecated. Please use tf.compat.v1.train.Optimizer instead.\n",
            "\n",
            "WARNING:tensorflow:From /usr/local/lib/python3.6/dist-packages/keras/backend/tensorflow_backend.py:3657: The name tf.log is deprecated. Please use tf.math.log instead.\n",
            "\n",
            "WARNING:tensorflow:From /usr/local/lib/python3.6/dist-packages/tensorflow_core/python/ops/nn_impl.py:183: where (from tensorflow.python.ops.array_ops) is deprecated and will be removed in a future version.\n",
            "Instructions for updating:\n",
            "Use tf.where in 2.0, which has the same broadcast rule as np.where\n",
            "WARNING:tensorflow:From /usr/local/lib/python3.6/dist-packages/keras/backend/tensorflow_backend.py:1033: The name tf.assign_add is deprecated. Please use tf.compat.v1.assign_add instead.\n",
            "\n",
            "WARNING:tensorflow:From /usr/local/lib/python3.6/dist-packages/keras/backend/tensorflow_backend.py:1020: The name tf.assign is deprecated. Please use tf.compat.v1.assign instead.\n",
            "\n",
            "WARNING:tensorflow:From /usr/local/lib/python3.6/dist-packages/keras/backend/tensorflow_backend.py:3005: The name tf.Session is deprecated. Please use tf.compat.v1.Session instead.\n",
            "\n",
            "Train on 20000 samples, validate on 5000 samples\n",
            "Epoch 1/10\n",
            "WARNING:tensorflow:From /usr/local/lib/python3.6/dist-packages/keras/backend/tensorflow_backend.py:190: The name tf.get_default_session is deprecated. Please use tf.compat.v1.get_default_session instead.\n",
            "\n",
            "WARNING:tensorflow:From /usr/local/lib/python3.6/dist-packages/keras/backend/tensorflow_backend.py:197: The name tf.ConfigProto is deprecated. Please use tf.compat.v1.ConfigProto instead.\n",
            "\n",
            "WARNING:tensorflow:From /usr/local/lib/python3.6/dist-packages/keras/backend/tensorflow_backend.py:207: The name tf.global_variables is deprecated. Please use tf.compat.v1.global_variables instead.\n",
            "\n",
            "WARNING:tensorflow:From /usr/local/lib/python3.6/dist-packages/keras/backend/tensorflow_backend.py:216: The name tf.is_variable_initialized is deprecated. Please use tf.compat.v1.is_variable_initialized instead.\n",
            "\n",
            "WARNING:tensorflow:From /usr/local/lib/python3.6/dist-packages/keras/backend/tensorflow_backend.py:223: The name tf.variables_initializer is deprecated. Please use tf.compat.v1.variables_initializer instead.\n",
            "\n",
            "20000/20000 [==============================] - 9s 426us/step - loss: 0.7509 - acc: 0.5193 - val_loss: 0.6867 - val_acc: 0.5484\n",
            "Epoch 2/10\n",
            "20000/20000 [==============================] - 1s 71us/step - loss: 0.6670 - acc: 0.6750 - val_loss: 0.6672 - val_acc: 0.6424\n",
            "Epoch 3/10\n",
            "20000/20000 [==============================] - 1s 71us/step - loss: 0.6267 - acc: 0.7683 - val_loss: 0.6195 - val_acc: 0.7484\n",
            "Epoch 4/10\n",
            "20000/20000 [==============================] - 1s 73us/step - loss: 0.5452 - acc: 0.8173 - val_loss: 0.5093 - val_acc: 0.7972\n",
            "Epoch 5/10\n",
            "20000/20000 [==============================] - 1s 70us/step - loss: 0.4194 - acc: 0.8468 - val_loss: 0.4212 - val_acc: 0.8306\n",
            "Epoch 6/10\n",
            "20000/20000 [==============================] - 1s 70us/step - loss: 0.3457 - acc: 0.8676 - val_loss: 0.4007 - val_acc: 0.8372\n",
            "Epoch 7/10\n",
            "20000/20000 [==============================] - 1s 70us/step - loss: 0.3010 - acc: 0.8727 - val_loss: 0.4059 - val_acc: 0.8348\n",
            "Epoch 8/10\n",
            "20000/20000 [==============================] - 1s 70us/step - loss: 0.2706 - acc: 0.8560 - val_loss: 0.4474 - val_acc: 0.8080\n",
            "Epoch 9/10\n",
            "20000/20000 [==============================] - 1s 70us/step - loss: 0.2453 - acc: 0.8430 - val_loss: 0.4401 - val_acc: 0.7932\n",
            "Epoch 10/10\n",
            "20000/20000 [==============================] - 1s 70us/step - loss: 0.2234 - acc: 0.8194 - val_loss: 0.4610 - val_acc: 0.7738\n"
          ],
          "name": "stdout"
        }
      ]
    },
    {
      "cell_type": "markdown",
      "metadata": {
        "id": "EGzr2MQgBfwl",
        "colab_type": "text"
      },
      "source": [
        "Here are our training and validation results: validation accuracy is somewhat lower than that of the LSTM we used two sections ago, but \n",
        "runtime is faster, both on CPU and GPU (albeit the exact speedup will vary greatly depending on your exact configuration). At that point, \n",
        "we could re-train this model for the right number of epochs (8), and run it on the test set. This is a convincing demonstration that a 1D \n",
        "convnet can offer a fast, cheap alternative to a recurrent network on a word-level sentiment classification task."
      ]
    },
    {
      "cell_type": "code",
      "metadata": {
        "id": "mgaTHN74Bfwm",
        "colab_type": "code",
        "colab": {
          "base_uri": "https://localhost:8080/",
          "height": 545
        },
        "outputId": "554d60c3-bb36-4266-e953-ebc322dfa127"
      },
      "source": [
        "import matplotlib.pyplot as plt\n",
        "\n",
        "acc = history.history['acc']\n",
        "val_acc = history.history['val_acc']\n",
        "loss = history.history['loss']\n",
        "val_loss = history.history['val_loss']\n",
        "\n",
        "epochs = range(len(acc))\n",
        "\n",
        "plt.plot(epochs, acc, 'bo', label='Training acc')\n",
        "plt.plot(epochs, val_acc, 'b', label='Validation acc')\n",
        "plt.title('Training and validation accuracy')\n",
        "plt.legend()\n",
        "\n",
        "plt.figure()\n",
        "\n",
        "plt.plot(epochs, loss, 'bo', label='Training loss')\n",
        "plt.plot(epochs, val_loss, 'b', label='Validation loss')\n",
        "plt.title('Training and validation loss')\n",
        "plt.legend()\n",
        "\n",
        "plt.show()"
      ],
      "execution_count": 3,
      "outputs": [
        {
          "output_type": "display_data",
          "data": {
            "image/png": "[encoded data removed]",
            "text/plain": [
              "<Figure size 432x288 with 1 Axes>"
            ]
          },
          "metadata": {
            "tags": []
          }
        },
        {
          "output_type": "display_data",
          "data": {
            "image/png": "[encoded data removed]",
            "text/plain": [
              "<Figure size 432x288 with 1 Axes>"
            ]
          },
          "metadata": {
            "tags": []
          }
        }
      ]
    },
    {
      "cell_type": "markdown",
      "metadata": {
        "id": "n5akmd9FBfwq",
        "colab_type": "text"
      },
      "source": [
        "## Combining CNNs and RNNs to process long sequences\n",
        "\n",
        "\n",
        "Because 1D convnets process input patches independently, they are not sensitive to the order of the timesteps (beyond a local scale, the \n",
        "size of the convolution windows), unlike RNNs. Of course, in order to be able to recognize longer-term patterns, one could stack many \n",
        "convolution layers and pooling layers, resulting in upper layers that would \"see\" long chunks of the original inputs -- but that's still a \n",
        "fairly weak way to induce order-sensitivity. One way to evidence this weakness is to try 1D convnets on the temperature forecasting problem \n",
        "from the previous section, where order-sensitivity was key to produce good predictions. Let's see:"
      ]
    },
    {
      "cell_type": "code",
      "metadata": {
        "id": "BpSw3FwLChI9",
        "colab_type": "code",
        "colab": {
          "base_uri": "https://localhost:8080/",
          "height": 124
        },
        "outputId": "3324bbf2-5041-4b74-c515-44762aca6526"
      },
      "source": [
        "from google.colab import drive\n",
        "drive.mount('/content/drive', force_remount=True)"
      ],
      "execution_count": 5,
      "outputs": [
        {
          "output_type": "stream",
          "text": [
            "Go to this URL in a browser: https://accounts.google.com/o/oauth2/auth?client_id=947318989803-6bn6qk8qdgf4n4g3pfee6491hc0brc4i.apps.googleusercontent.com&redirect_uri=urn%3aietf%3awg%3aoauth%3a2.0%3aoob&response_type=code&scope=email%20https%3a%2f%2fwww.googleapis.com%2fauth%2fdocs.test%20https%3a%2f%2fwww.googleapis.com%2fauth%2fdrive%20https%3a%2f%2fwww.googleapis.com%2fauth%2fdrive.photos.readonly%20https%3a%2f%2fwww.googleapis.com%2fauth%2fpeopleapi.readonly\n",
            "\n",
            "Enter your authorization code:\n",
            "··········\n",
            "Mounted at /content/drive\n"
          ],
          "name": "stdout"
        }
      ]
    },
    {
      "cell_type": "code",
      "metadata": {
        "id": "VpcKXnUPBfwr",
        "colab_type": "code",
        "colab": {}
      },
      "source": [
        "# We reuse the following variables defined in the last section:\n",
        "# float_data, train_gen, val_gen, val_steps\n",
        "\n",
        "import os\n",
        "import numpy as np\n",
        "\n",
        "data_dir = 'drive/My Drive/jena_climate_2009_2016/'\n",
        "fname = os.path.join(data_dir, 'jena_climate_2009_2016.csv')\n",
        "\n",
        "f = open(fname)\n",
        "data = f.read()\n",
        "f.close()\n",
        "\n",
        "lines = data.split('\\n')\n",
        "header = lines[0].split(',')\n",
        "lines = lines[1:]\n",
        "\n",
        "float_data = np.zeros((len(lines), len(header) - 1))\n",
        "for i, line in enumerate(lines):\n",
        "    values = [float(x) for x in line.split(',')[1:]]\n",
        "    float_data[i, :] = values\n",
        "    \n",
        "mean = float_data[:200000].mean(axis=0)\n",
        "float_data -= mean\n",
        "std = float_data[:200000].std(axis=0)\n",
        "float_data /= std\n",
        "\n",
        "def generator(data, lookback, delay, min_index, max_index,\n",
        "              shuffle=False, batch_size=128, step=6):\n",
        "    if max_index is None:\n",
        "        max_index = len(data) - delay - 1\n",
        "    i = min_index + lookback\n",
        "    while 1:\n",
        "        if shuffle:\n",
        "            rows = np.random.randint(\n",
        "                min_index + lookback, max_index, size=batch_size)\n",
        "        else:\n",
        "            if i + batch_size >= max_index:\n",
        "                i = min_index + lookback\n",
        "            rows = np.arange(i, min(i + batch_size, max_index))\n",
        "            i += len(rows)\n",
        "\n",
        "        samples = np.zeros((len(rows),\n",
        "                           lookback // step,\n",
        "                           data.shape[-1]))\n",
        "        targets = np.zeros((len(rows),))\n",
        "        for j, row in enumerate(rows):\n",
        "            indices = range(rows[j] - lookback, rows[j], step)\n",
        "            samples[j] = data[indices]\n",
        "            targets[j] = data[rows[j] + delay][1]\n",
        "        yield samples, targets\n",
        "        \n",
        "lookback = 1440\n",
        "step = 6\n",
        "delay = 144\n",
        "batch_size = 128\n",
        "\n",
        "train_gen = generator(float_data,\n",
        "                      lookback=lookback,\n",
        "                      delay=delay,\n",
        "                      min_index=0,\n",
        "                      max_index=200000,\n",
        "                      shuffle=True,\n",
        "                      step=step, \n",
        "                      batch_size=batch_size)\n",
        "val_gen = generator(float_data,\n",
        "                    lookback=lookback,\n",
        "                    delay=delay,\n",
        "                    min_index=200001,\n",
        "                    max_index=300000,\n",
        "                    step=step,\n",
        "                    batch_size=batch_size)\n",
        "test_gen = generator(float_data,\n",
        "                     lookback=lookback,\n",
        "                     delay=delay,\n",
        "                     min_index=300001,\n",
        "                     max_index=None,\n",
        "                     step=step,\n",
        "                     batch_size=batch_size)\n",
        "\n",
        "# This is how many steps to draw from `val_gen`\n",
        "# in order to see the whole validation set:\n",
        "val_steps = (300000 - 200001 - lookback) // batch_size\n",
        "\n",
        "# This is how many steps to draw from `test_gen`\n",
        "# in order to see the whole test set:\n",
        "test_steps = (len(float_data) - 300001 - lookback) // batch_size"
      ],
      "execution_count": 0,
      "outputs": []
    },
    {
      "cell_type": "code",
      "metadata": {
        "id": "fGYAG3NcBfwu",
        "colab_type": "code",
        "colab": {
          "base_uri": "https://localhost:8080/",
          "height": 711
        },
        "outputId": "b2bb08da-a9fb-4f0a-ef94-ba0e73a254d4"
      },
      "source": [
        "from keras.models import Sequential\n",
        "from keras import layers\n",
        "from keras.optimizers import RMSprop\n",
        "\n",
        "model = Sequential()\n",
        "model.add(layers.Conv1D(32, 5, activation='relu',\n",
        "                        input_shape=(None, float_data.shape[-1])))\n",
        "model.add(layers.MaxPooling1D(3))\n",
        "model.add(layers.Conv1D(32, 5, activation='relu'))\n",
        "model.add(layers.MaxPooling1D(3))\n",
        "model.add(layers.Conv1D(32, 5, activation='relu'))\n",
        "model.add(layers.GlobalMaxPooling1D())\n",
        "model.add(layers.Dense(1))\n",
        "\n",
        "model.compile(optimizer=RMSprop(), loss='mae')\n",
        "history = model.fit_generator(train_gen,\n",
        "                              steps_per_epoch=500,\n",
        "                              epochs=20,\n",
        "                              validation_data=val_gen,\n",
        "                              validation_steps=val_steps)"
      ],
      "execution_count": 8,
      "outputs": [
        {
          "output_type": "stream",
          "text": [
            "Epoch 1/20\n",
            "500/500 [==============================] - 12s 24ms/step - loss: 0.4215 - val_loss: 0.4339\n",
            "Epoch 2/20\n",
            "500/500 [==============================] - 11s 23ms/step - loss: 0.3652 - val_loss: 0.4246\n",
            "Epoch 3/20\n",
            "500/500 [==============================] - 12s 23ms/step - loss: 0.3415 - val_loss: 0.4322\n",
            "Epoch 4/20\n",
            "500/500 [==============================] - 12s 25ms/step - loss: 0.3238 - val_loss: 0.4822\n",
            "Epoch 5/20\n",
            "500/500 [==============================] - 12s 24ms/step - loss: 0.3126 - val_loss: 0.4382\n",
            "Epoch 6/20\n",
            "500/500 [==============================] - 12s 24ms/step - loss: 0.3028 - val_loss: 0.4516\n",
            "Epoch 7/20\n",
            "500/500 [==============================] - 12s 24ms/step - loss: 0.2923 - val_loss: 0.4497\n",
            "Epoch 8/20\n",
            "500/500 [==============================] - 12s 24ms/step - loss: 0.2827 - val_loss: 0.4583\n",
            "Epoch 9/20\n",
            "500/500 [==============================] - 12s 24ms/step - loss: 0.2773 - val_loss: 0.4506\n",
            "Epoch 10/20\n",
            "500/500 [==============================] - 12s 23ms/step - loss: 0.2698 - val_loss: 0.4646\n",
            "Epoch 11/20\n",
            "500/500 [==============================] - 12s 24ms/step - loss: 0.2668 - val_loss: 0.4753\n",
            "Epoch 12/20\n",
            "500/500 [==============================] - 12s 24ms/step - loss: 0.2610 - val_loss: 0.4610\n",
            "Epoch 13/20\n",
            "500/500 [==============================] - 12s 24ms/step - loss: 0.2579 - val_loss: 0.4626\n",
            "Epoch 14/20\n",
            "500/500 [==============================] - 12s 24ms/step - loss: 0.2548 - val_loss: 0.4628\n",
            "Epoch 15/20\n",
            "500/500 [==============================] - 12s 24ms/step - loss: 0.2539 - val_loss: 0.4542\n",
            "Epoch 16/20\n",
            "500/500 [==============================] - 12s 24ms/step - loss: 0.2493 - val_loss: 0.4738\n",
            "Epoch 17/20\n",
            "500/500 [==============================] - 12s 24ms/step - loss: 0.2460 - val_loss: 0.4763\n",
            "Epoch 18/20\n",
            "500/500 [==============================] - 12s 25ms/step - loss: 0.2457 - val_loss: 0.4706\n",
            "Epoch 19/20\n",
            "500/500 [==============================] - 12s 24ms/step - loss: 0.2412 - val_loss: 0.4698\n",
            "Epoch 20/20\n",
            "500/500 [==============================] - 12s 24ms/step - loss: 0.2407 - val_loss: 0.4769\n"
          ],
          "name": "stdout"
        }
      ]
    },
    {
      "cell_type": "markdown",
      "metadata": {
        "id": "op-JHka2Bfw0",
        "colab_type": "text"
      },
      "source": [
        "Here are our training and validation Mean Absolute Errors:"
      ]
    },
    {
      "cell_type": "code",
      "metadata": {
        "id": "NUt35THIBfw2",
        "colab_type": "code",
        "colab": {
          "base_uri": "https://localhost:8080/",
          "height": 281
        },
        "outputId": "d069ef4f-c0d6-4c14-d09e-2caa80330b89"
      },
      "source": [
        "import matplotlib.pyplot as plt\n",
        "\n",
        "loss = history.history['loss']\n",
        "val_loss = history.history['val_loss']\n",
        "\n",
        "epochs = range(len(loss))\n",
        "\n",
        "plt.figure()\n",
        "\n",
        "plt.plot(epochs, loss, 'bo', label='Training loss')\n",
        "plt.plot(epochs, val_loss, 'b', label='Validation loss')\n",
        "plt.title('Training and validation loss')\n",
        "plt.legend()\n",
        "\n",
        "plt.show()"
      ],
      "execution_count": 9,
      "outputs": [
        {
          "output_type": "display_data",
          "data": {
            "image/png": "[encoded data removed]",
            "text/plain": [
              "<Figure size 432x288 with 1 Axes>"
            ]
          },
          "metadata": {
            "tags": []
          }
        }
      ]
    },
    {
      "cell_type": "markdown",
      "metadata": {
        "id": "BM1KO-U4Bfw6",
        "colab_type": "text"
      },
      "source": [
        "\n",
        "The validation MAE stays in the low 0.40s: we cannot even beat our common-sense baseline using the small convnet. Again, this is because \n",
        "our convnet looks for patterns anywhere in the input timeseries, and has no knowledge of the temporal position of a pattern it sees (e.g. \n",
        "towards the beginning, towards the end, etc.). Since more recent datapoints should be interpreted differently from older datapoints in the \n",
        "case of this specific forecasting problem, the convnet fails at producing meaningful results here. This limitation of convnets was not an \n",
        "issue on IMDB, because patterns of keywords that are associated with a positive or a negative sentiment will be informative independently \n",
        "of where they are found in the input sentences.\n",
        "\n",
        "One strategy to combine the speed and lightness of convnets with the order-sensitivity of RNNs is to use a 1D convnet as a preprocessing \n",
        "step before a RNN. This is especially beneficial when dealing with sequences that are so long that they couldn't realistically be processed \n",
        "with RNNs, e.g. sequences with thousands of steps. The convnet will turn the long input sequence into much shorter (downsampled) sequences \n",
        "of higher-level features. This sequence of extracted features then becomes the input to the RNN part of the network."
      ]
    },
    {
      "cell_type": "markdown",
      "metadata": {
        "id": "CNvZhzgUBfw7",
        "colab_type": "text"
      },
      "source": [
        "\n",
        "This technique is not seen very often in research papers and practical applications, possibly because it is not very well known. It is very \n",
        "effective and ought to be more common. Let's try this out on the temperature forecasting dataset. Because this strategy allows us to \n",
        "manipulate much longer sequences, we could either look at data from further back (by increasing the `lookback` parameter of the data \n",
        "generator), or look at high-resolution timeseries (by decreasing the `step` parameter of the generator). Here, we will chose (somewhat \n",
        "arbitrarily) to use a `step` twice smaller, resulting in twice longer timeseries, where the weather data is being sampled at a rate of one \n",
        "point per 30 minutes."
      ]
    },
    {
      "cell_type": "code",
      "metadata": {
        "id": "y4u62Fs_Bfw9",
        "colab_type": "code",
        "colab": {}
      },
      "source": [
        "# This was previously set to 6 (one point per hour).\n",
        "# Now 3 (one point per 30 min).\n",
        "step = 3\n",
        "lookback = 720  # Unchanged\n",
        "delay = 144 # Unchanged\n",
        "\n",
        "train_gen = generator(float_data,\n",
        "                      lookback=lookback,\n",
        "                      delay=delay,\n",
        "                      min_index=0,\n",
        "                      max_index=200000,\n",
        "                      shuffle=True,\n",
        "                      step=step)\n",
        "val_gen = generator(float_data,\n",
        "                    lookback=lookback,\n",
        "                    delay=delay,\n",
        "                    min_index=200001,\n",
        "                    max_index=300000,\n",
        "                    step=step)\n",
        "test_gen = generator(float_data,\n",
        "                     lookback=lookback,\n",
        "                     delay=delay,\n",
        "                     min_index=300001,\n",
        "                     max_index=None,\n",
        "                     step=step)\n",
        "val_steps = (300000 - 200001 - lookback) // 128\n",
        "test_steps = (len(float_data) - 300001 - lookback) // 128"
      ],
      "execution_count": 0,
      "outputs": []
    },
    {
      "cell_type": "markdown",
      "metadata": {
        "id": "dFTlZPEQBfxB",
        "colab_type": "text"
      },
      "source": [
        "This is our model, starting with two `Conv1D` layers and following-up with a `GRU` layer:"
      ]
    },
    {
      "cell_type": "code",
      "metadata": {
        "id": "AdxdKojvBfxD",
        "colab_type": "code",
        "colab": {
          "base_uri": "https://localhost:8080/",
          "height": 1000
        },
        "outputId": "26f23a76-ae7a-49a1-fc70-91c11edf5886"
      },
      "source": [
        "model = Sequential()\n",
        "model.add(layers.Conv1D(32, 5, activation='relu',\n",
        "                        input_shape=(None, float_data.shape[-1])))\n",
        "model.add(layers.MaxPooling1D(3))\n",
        "model.add(layers.Conv1D(32, 5, activation='relu'))\n",
        "model.add(layers.GRU(32, dropout=0.1, recurrent_dropout=0.5))\n",
        "model.add(layers.Dense(1))\n",
        "\n",
        "model.summary()\n",
        "\n",
        "model.compile(optimizer=RMSprop(), loss='mae')\n",
        "history = model.fit_generator(train_gen,\n",
        "                              steps_per_epoch=500,\n",
        "                              epochs=20,\n",
        "                              validation_data=val_gen,\n",
        "                              validation_steps=val_steps)"
      ],
      "execution_count": 11,
      "outputs": [
        {
          "output_type": "stream",
          "text": [
            "WARNING:tensorflow:From /usr/local/lib/python3.6/dist-packages/keras/backend/tensorflow_backend.py:148: The name tf.placeholder_with_default is deprecated. Please use tf.compat.v1.placeholder_with_default instead.\n",
            "\n",
            "WARNING:tensorflow:From /usr/local/lib/python3.6/dist-packages/keras/backend/tensorflow_backend.py:3733: calling dropout (from tensorflow.python.ops.nn_ops) with keep_prob is deprecated and will be removed in a future version.\n",
            "Instructions for updating:\n",
            "Please use `rate` instead of `keep_prob`. Rate should be set to `rate = 1 - keep_prob`.\n",
            "Model: \"sequential_3\"\n",
            "_________________________________________________________________\n",
            "Layer (type)                 Output Shape              Param #   \n",
            "=================================================================\n",
            "conv1d_6 (Conv1D)            (None, None, 32)          2272      \n",
            "_________________________________________________________________\n",
            "max_pooling1d_4 (MaxPooling1 (None, None, 32)          0         \n",
            "_________________________________________________________________\n",
            "conv1d_7 (Conv1D)            (None, None, 32)          5152      \n",
            "_________________________________________________________________\n",
            "gru_1 (GRU)                  (None, 32)                6240      \n",
            "_________________________________________________________________\n",
            "dense_3 (Dense)              (None, 1)                 33        \n",
            "=================================================================\n",
            "Total params: 13,697\n",
            "Trainable params: 13,697\n",
            "Non-trainable params: 0\n",
            "_________________________________________________________________\n",
            "Epoch 1/20\n",
            "500/500 [==============================] - 67s 133ms/step - loss: 0.3407 - val_loss: 0.2933\n",
            "Epoch 2/20\n",
            "500/500 [==============================] - 66s 133ms/step - loss: 0.3081 - val_loss: 0.2799\n",
            "Epoch 3/20\n",
            "500/500 [==============================] - 67s 134ms/step - loss: 0.2955 - val_loss: 0.2706\n",
            "Epoch 4/20\n",
            "500/500 [==============================] - 67s 134ms/step - loss: 0.2887 - val_loss: 0.2827\n",
            "Epoch 5/20\n",
            "500/500 [==============================] - 67s 134ms/step - loss: 0.2810 - val_loss: 0.2753\n",
            "Epoch 6/20\n",
            "500/500 [==============================] - 67s 134ms/step - loss: 0.2740 - val_loss: 0.2718\n",
            "Epoch 7/20\n",
            "500/500 [==============================] - 67s 135ms/step - loss: 0.2703 - val_loss: 0.2758\n",
            "Epoch 8/20\n",
            "500/500 [==============================] - 68s 136ms/step - loss: 0.2647 - val_loss: 0.2808\n",
            "Epoch 9/20\n",
            "500/500 [==============================] - 68s 137ms/step - loss: 0.2592 - val_loss: 0.2931\n",
            "Epoch 10/20\n",
            "500/500 [==============================] - 68s 135ms/step - loss: 0.2573 - val_loss: 0.2841\n",
            "Epoch 11/20\n",
            "500/500 [==============================] - 68s 135ms/step - loss: 0.2513 - val_loss: 0.2774\n",
            "Epoch 12/20\n",
            "500/500 [==============================] - 66s 133ms/step - loss: 0.2488 - val_loss: 0.2822\n",
            "Epoch 13/20\n",
            "500/500 [==============================] - 65s 130ms/step - loss: 0.2480 - val_loss: 0.2844\n",
            "Epoch 14/20\n",
            "500/500 [==============================] - 64s 127ms/step - loss: 0.2429 - val_loss: 0.2845\n",
            "Epoch 15/20\n",
            "500/500 [==============================] - 62s 125ms/step - loss: 0.2397 - val_loss: 0.2935\n",
            "Epoch 16/20\n",
            "500/500 [==============================] - 62s 124ms/step - loss: 0.2361 - val_loss: 0.2892\n",
            "Epoch 17/20\n",
            "500/500 [==============================] - 62s 124ms/step - loss: 0.2353 - val_loss: 0.2971\n",
            "Epoch 18/20\n",
            "500/500 [==============================] - 62s 123ms/step - loss: 0.2325 - val_loss: 0.2909\n",
            "Epoch 19/20\n",
            "500/500 [==============================] - 62s 123ms/step - loss: 0.2305 - val_loss: 0.2894\n",
            "Epoch 20/20\n",
            "500/500 [==============================] - 61s 123ms/step - loss: 0.2278 - val_loss: 0.2916\n"
          ],
          "name": "stdout"
        }
      ]
    },
    {
      "cell_type": "code",
      "metadata": {
        "id": "gP-tqV4fBfxG",
        "colab_type": "code",
        "colab": {
          "base_uri": "https://localhost:8080/",
          "height": 281
        },
        "outputId": "dd618808-c6a2-41e9-9f82-7fb176e4c6e6"
      },
      "source": [
        "loss = history.history['loss']\n",
        "val_loss = history.history['val_loss']\n",
        "\n",
        "epochs = range(len(loss))\n",
        "\n",
        "plt.figure()\n",
        "\n",
        "plt.plot(epochs, loss, 'bo', label='Training loss')\n",
        "plt.plot(epochs, val_loss, 'b', label='Validation loss')\n",
        "plt.title('Training and validation loss')\n",
        "plt.legend()\n",
        "\n",
        "plt.show()"
      ],
      "execution_count": 12,
      "outputs": [
        {
          "output_type": "display_data",
          "data": {
            "image/png": "[encoded data removed]",
            "text/plain": [
              "<Figure size 432x288 with 1 Axes>"
            ]
          },
          "metadata": {
            "tags": []
          }
        }
      ]
    },
    {
      "cell_type": "markdown",
      "metadata": {
        "id": "PTnfQK1DBfxK",
        "colab_type": "text"
      },
      "source": [
        "Judging from the validation loss, this setup is not quite as good as the regularized GRU alone, but it's significantly faster. It is \n",
        "looking at twice more data, which in this case doesn't appear to be hugely helpful, but may be important for other datasets."
      ]
    },
    {
      "cell_type": "markdown",
      "metadata": {
        "id": "oFXvkBDEBfxL",
        "colab_type": "text"
      },
      "source": [
        "## Wrapping up\n",
        "\n",
        "Here's what you should take away from this section:\n",
        "\n",
        "* In the same way that 2D convnets perform well for processing visual patterns in 2D space, 1D convnets perform well for processing \n",
        "temporal patterns. They offer a faster alternative to RNNs on some problems, in particular NLP tasks.\n",
        "* Typically 1D convnets are structured much like their 2D equivalents from the world of computer vision: they consist of stacks of `Conv1D` \n",
        "layers and `MaxPooling1D` layers, eventually ending in a global pooling operation or flattening operation.\n",
        "* Because RNNs are extremely expensive for processing very long sequences, but 1D convnets are cheap, it can be a good idea to use a 1D \n",
        "convnet as a preprocessing step before a RNN, shortening the sequence and extracting useful representations for the RNN to process.\n",
        "\n",
        "One useful and important concept that we will not cover in these pages is that of 1D convolution with dilated kernels."
      ]
    }
  ]
}